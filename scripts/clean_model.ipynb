{
 "cells": [
  {
   "metadata": {
    "ExecuteTime": {
     "end_time": "2025-04-15T13:43:59.501603Z",
     "start_time": "2025-04-15T13:43:58.990252Z"
    }
   },
   "cell_type": "code",
   "source": [
    "import pandas\n",
    "from consts import *\n",
    "from scripts.play_with_all_data import experiment_features, cell_line_features\n",
    "\n",
    "all_data = pandas.read_csv(DATA_PATH / 'data_from_article_fixed.csv')"
   ],
   "id": "d4e0823384ae0a08",
   "outputs": [],
   "execution_count": 1
  },
  {
   "metadata": {
    "ExecuteTime": {
     "end_time": "2025-04-15T13:50:33.215129Z",
     "start_time": "2025-04-15T13:50:33.210843Z"
    }
   },
   "cell_type": "code",
   "source": "from data_genertion.consts import *",
   "id": "b04d398807497922",
   "outputs": [],
   "execution_count": 19
  },
  {
   "metadata": {
    "ExecuteTime": {
     "end_time": "2025-04-15T13:43:59.585054Z",
     "start_time": "2025-04-15T13:43:59.583198Z"
    }
   },
   "cell_type": "code",
   "source": "# Feature generation",
   "id": "94829dab67b5c23e",
   "outputs": [],
   "execution_count": 3
  },
  {
   "metadata": {
    "ExecuteTime": {
     "end_time": "2025-04-15T13:43:59.932793Z",
     "start_time": "2025-04-15T13:43:59.636171Z"
    }
   },
   "cell_type": "code",
   "source": [
    "from scipy.stats import pearsonr, spearmanr\n",
    "\n",
    "def print_correlations(df, name1, name2, p_value_threshold=None):\n",
    "    if p_value_threshold is None:\n",
    "        p_value_threshold = 1\n",
    "    corr, p_value = pearsonr(df[name1], df[name2])\n",
    "    if p_value < p_value_threshold:\n",
    "        print(f\"Feature: {name1:<35}, Pearson: {corr:<5.2f}, p-value: {p_value:<10.2} Target: {name2:<35}\")\n",
    "    corr, p_value = spearmanr(df[name1], df[name2])\n",
    "    if p_value < p_value_threshold:\n",
    "        print(f\"Feature: {name1:<35}, Spearman: {corr:<5.2f}, p-value: {p_value:<10.2} Target: {name2:<35}\")"
   ],
   "id": "754d2e574e7711cc",
   "outputs": [],
   "execution_count": 4
  },
  {
   "metadata": {
    "ExecuteTime": {
     "end_time": "2025-04-15T13:43:59.948197Z",
     "start_time": "2025-04-15T13:43:59.939350Z"
    }
   },
   "cell_type": "code",
   "source": [
    "import numpy as np\n",
    "\n",
    "all_data_no_nan = all_data.dropna(subset=[INHIBITION]).copy()\n",
    "all_data_no_nan.loc[:, 'log_inhibition'] = -np.log(-all_data_no_nan[INHIBITION] + 100.001)"
   ],
   "id": "81020cb59e62a18d",
   "outputs": [],
   "execution_count": 5
  },
  {
   "metadata": {
    "ExecuteTime": {
     "end_time": "2025-04-15T13:44:38.979130Z",
     "start_time": "2025-04-15T13:43:59.980812Z"
    }
   },
   "cell_type": "code",
   "source": [
    "from read_human_genome import get_locus_to_data_dict\n",
    "gene_to_data = get_locus_to_data_dict(include_introns=True)"
   ],
   "id": "b5f1bb7bdfeb283d",
   "outputs": [
    {
     "name": "stdout",
     "output_type": "stream",
     "text": [
      "Time took to read fasta: 8.895147562026978\n"
     ]
    }
   ],
   "execution_count": 6
  },
  {
   "metadata": {
    "ExecuteTime": {
     "end_time": "2025-04-15T13:44:39.080174Z",
     "start_time": "2025-04-15T13:44:39.003739Z"
    }
   },
   "cell_type": "code",
   "source": [
    "from consts import HUMAN_DB_BASIC_INTRONS\n",
    "import gffutils\n",
    "\n",
    "db = gffutils.FeatureDB(str(HUMAN_DB_BASIC_INTRONS))\n",
    "gene = db.features_of_type('gene')"
   ],
   "id": "1e3f49e85314c60e",
   "outputs": [],
   "execution_count": 7
  },
  {
   "metadata": {
    "ExecuteTime": {
     "end_time": "2025-04-15T13:47:02.247540Z",
     "start_time": "2025-04-15T13:47:02.230538Z"
    }
   },
   "cell_type": "code",
   "source": [
    "all_data_no_nan_human = all_data_no_nan[all_data_no_nan[CELL_LINE_ORGANISM] == 'human']\n",
    "genes = all_data_no_nan[CANONICAL_GENE].copy()\n",
    "genes_u = list(set(genes))\n",
    "genes_u.remove('HBV')\n",
    "genes_u.remove('negative_control')"
   ],
   "id": "2f3cbd40d5c2991e",
   "outputs": [],
   "execution_count": 8
  },
  {
   "metadata": {
    "ExecuteTime": {
     "end_time": "2025-04-15T13:47:02.560119Z",
     "start_time": "2025-04-15T13:47:02.434960Z"
    }
   },
   "cell_type": "code",
   "source": "list(gene_to_data.items())[0][1].full_mrna",
   "id": "a740be56ee577b85",
   "outputs": [
    {
     "data": {
      "text/plain": [
       "Seq('AGGGGCGCGCAGCGCCGGCGCAGGCGCAGGCGCGGAGGGGCGCGCCCGAACCCG...TGC')"
      ]
     },
     "execution_count": 9,
     "metadata": {},
     "output_type": "execute_result"
    }
   ],
   "execution_count": 9
  },
  {
   "metadata": {
    "ExecuteTime": {
     "end_time": "2025-04-15T13:47:11.242986Z",
     "start_time": "2025-04-15T13:47:04.471727Z"
    }
   },
   "cell_type": "code",
   "source": [
    "from asodesigner.util import get_antisense\n",
    "\n",
    "all_data_human_gene = all_data_no_nan_human[all_data_no_nan_human[CANONICAL_GENE].isin(genes_u)].copy()\n",
    "PREMRNA_FOUND = 'pre_mrna_found'\n",
    "SENSE_START = 'sense_start'\n",
    "SENSE_LENGTH = 'sense_length'\n",
    "found = 0\n",
    "not_found = 0\n",
    "all_data_human_gene[SENSE_START] = np.zeros_like(all_data_human_gene[CANONICAL_GENE], dtype=int)\n",
    "all_data_human_gene[SENSE_LENGTH] = np.zeros_like(all_data_human_gene[CANONICAL_GENE], dtype=int)\n",
    "for index, row in all_data_human_gene.iterrows():\n",
    "     gene_name = row[CANONICAL_GENE]\n",
    "     pre_mrna = gene_to_data[gene_name].full_mrna\n",
    "     antisense = row[SEQUENCE]\n",
    "     sense = get_antisense(antisense)\n",
    "     idx = pre_mrna.find(sense)\n",
    "     all_data_human_gene.loc[index, SENSE_START] = idx\n",
    "     all_data_human_gene.loc[index, SENSE_LENGTH] = len(antisense)"
   ],
   "id": "1b4ce5bc32d3636",
   "outputs": [],
   "execution_count": 10
  },
  {
   "metadata": {
    "ExecuteTime": {
     "end_time": "2025-04-15T13:50:22.463959Z",
     "start_time": "2025-04-15T13:50:22.457191Z"
    }
   },
   "cell_type": "code",
   "source": [
    "# Filter genes that were not found in genome\n",
    "all_data_human_gene_premrna = all_data_human_gene[all_data_human_gene[SENSE_START] != -1]\n",
    "len(all_data_human_gene_premrna)"
   ],
   "id": "be80e20168355323",
   "outputs": [
    {
     "data": {
      "text/plain": [
       "29987"
      ]
     },
     "execution_count": 16,
     "metadata": {},
     "output_type": "execute_result"
    }
   ],
   "execution_count": 16
  },
  {
   "metadata": {
    "ExecuteTime": {
     "end_time": "2025-04-15T13:50:46.568556Z",
     "start_time": "2025-04-15T13:50:46.565844Z"
    }
   },
   "cell_type": "code",
   "source": [
    "from scipy import stats\n",
    "from sklearn.linear_model import LinearRegression\n",
    "from sklearn.ensemble import RandomForestRegressor\n",
    "from sklearn.model_selection  import train_test_split, cross_val_score\n",
    "from sklearn.metrics import make_scorer\n",
    "import pandas as pd\n",
    "from data_genertion.consts import *"
   ],
   "id": "7462fb07ce809ba0",
   "outputs": [],
   "execution_count": 22
  },
  {
   "metadata": {
    "ExecuteTime": {
     "end_time": "2025-04-15T14:37:35.097826Z",
     "start_time": "2025-04-15T14:37:34.956778Z"
    }
   },
   "cell_type": "code",
   "source": [
    "MODIFICATION = 'Modification'\n",
    "\n",
    "all_data_human_gene_premrna_no_nan = all_data_human_gene_premrna.copy()\n",
    "filtered = all_data_human_gene_premrna_no_nan\n",
    "filtered = filtered[filtered['Cell line organism'] == 'human']\n",
    "filtered = filtered[filtered['Cell line organism'] == 'human']\n",
    "print(len(filtered))\n",
    "filtered = filtered.dropna(subset=[INHIBITION]).copy()\n",
    "filtered = filtered.dropna(subset=[DENSITY]).copy()\n",
    "\n",
    "ONE_HOT_FEATURE_NAMES = [CELL_LINE, TRANSFECTION, MODIFICATION]\n",
    "# append more one-hot features 'first_nucleotide', 'second_nucleotide'\n",
    "\n",
    "for one_hot_feature in ONE_HOT_FEATURE_NAMES:\n",
    "    filtered = pd.get_dummies(filtered, columns=[one_hot_feature]).copy()\n",
    "\n",
    "filtered.loc[:, 'log_volume'] = np.log(filtered[VOLUME])\n",
    "filtered.loc[:, 'log_density'] = np.log(filtered[DENSITY])\n",
    "\n",
    "# more feature generation\n",
    "feature_base = [SENSE_START, SENSE_LENGTH]\n",
    "experiment_features = [VOLUME, 'log_volume', 'log_density', TREATMENT_PERIOD]\n",
    "\n",
    "one_hot_encoded_features = []\n",
    "for one_hot_feature in ONE_HOT_FEATURE_NAMES:\n",
    "    one_hot_encoded_features.append([feature for feature in filtered.columns if one_hot_feature in feature and one_hot_feature != feature])\n",
    "\n",
    "# Flatten the list of list to a single big list\n",
    "flat_one_hot_encoded_features = [feature for sublist in one_hot_encoded_features for feature in sublist]\n",
    "\n",
    "features = feature_base + experiment_features + flat_one_hot_encoded_features\n",
    "\n",
    "train, test = train_test_split(filtered, test_size=0.2)\n",
    "\n",
    "X = train[features]\n",
    "Y = train['log_inhibition']\n",
    "\n",
    "model = LinearRegression()\n",
    "model.fit(X[features], train['log_inhibition'])\n",
    "\n",
    "baseline_score = cross_val_score(model, X, Y, cv=5).mean()\n",
    "\n",
    "def spearman_score(y_true, y_pred):\n",
    "    return stats.spearmanr(y_true, y_pred).correlation ** 2\n",
    "\n",
    "spearman_scorer = make_scorer(spearman_score, greater_is_better=True)\n",
    "spearman_score = cross_val_score(model, X, Y, cv=5, scoring=spearman_scorer, n_jobs=-1).mean()\n",
    "\n",
    "print(f\"Baseline score: {baseline_score}\")\n",
    "print(\"Spearman score: \", spearman_score)"
   ],
   "id": "2bed10cd3402c09f",
   "outputs": [
    {
     "name": "stdout",
     "output_type": "stream",
     "text": [
      "29987\n",
      "Baseline score: 0.3286770993926023\n",
      "Spearman score:  0.28732121387936294\n"
     ]
    }
   ],
   "execution_count": 44
  },
  {
   "metadata": {
    "ExecuteTime": {
     "end_time": "2025-04-15T14:37:36.990876Z",
     "start_time": "2025-04-15T14:37:36.925119Z"
    }
   },
   "cell_type": "code",
   "source": [
    "import matplotlib.pyplot as plt\n",
    "\n",
    "y_predicted = model.predict(test[features])\n",
    "y_expected = test['log_inhibition']\n",
    "\n",
    "\n",
    "corr, p_value = pearsonr(y_expected, y_predicted)\n",
    "print(\"Pearson Corr: \", corr, \" p_value: \", p_value)\n",
    "corr, p_value = spearmanr(y_expected, y_predicted)\n",
    "print(\"Spearman Corr: \", corr, \" p_value: \", p_value)\n",
    "plt.scatter(y_predicted, y_expected, alpha=0.2)\n",
    "# plt.scatter(y_test, test['gc_content'])\n",
    "x = np.linspace(np.min(y_predicted), np.max(y_predicted), 100)\n",
    "plt.plot(x, x, color='red')\n",
    "\n",
    "plt.xlabel('Predicted Inhibition')\n",
    "plt.ylabel('Actual Inhibition')\n",
    "plt.title('Predicted vs Actual Inhibition')\n",
    "plt.show()"
   ],
   "id": "b2397032375ce736",
   "outputs": [
    {
     "name": "stdout",
     "output_type": "stream",
     "text": [
      "Pearson Corr:  0.584980824068247  p_value:  0.0\n",
      "Spearman Corr:  0.5476693840330978  p_value:  0.0\n"
     ]
    },
    {
     "data": {
      "text/plain": [
       "<Figure size 640x480 with 1 Axes>"
      ],
      "image/png": "[encoded data removed]"
     },
     "metadata": {},
     "output_type": "display_data"
    }
   ],
   "execution_count": 45
  },
  {
   "metadata": {
    "ExecuteTime": {
     "end_time": "2025-04-15T14:37:38.530337Z",
     "start_time": "2025-04-15T14:37:37.333499Z"
    }
   },
   "cell_type": "code",
   "source": [
    "from sklearn.model_selection import permutation_test_score\n",
    "\n",
    "score, permutation_scores, pvalue = permutation_test_score(model, X, Y, cv=5, n_permutations=100, n_jobs=-1, scoring='r2')\n",
    "print(score, permutation_scores, pvalue)"
   ],
   "id": "a87f499709661a32",
   "outputs": [
    {
     "name": "stdout",
     "output_type": "stream",
     "text": [
      "0.3286770993926023 [-0.00159604 -0.00288108 -0.00188152 -0.00172328 -0.00270572 -0.00193958\n",
      " -0.00254745 -0.00152561 -0.00220165 -0.00159298 -0.0021752  -0.00162285\n",
      " -0.00241888 -0.0016576  -0.00216553 -0.00179766 -0.00163548 -0.00171545\n",
      " -0.00203824 -0.00156659 -0.00168123 -0.00100025 -0.00197232 -0.0021309\n",
      " -0.00180155 -0.00195171 -0.00283631 -0.00234857 -0.00295743 -0.00211362\n",
      " -0.0024037  -0.00204982 -0.00182586 -0.00154934 -0.00260707 -0.00150129\n",
      " -0.0031911  -0.00252915 -0.00259178 -0.0024211  -0.00188389 -0.00270517\n",
      " -0.00251318 -0.00159169 -0.0018668  -0.00203991 -0.00242462 -0.00243607\n",
      " -0.00173491 -0.00122465 -0.00150247 -0.0010218  -0.00082527 -0.0016872\n",
      " -0.00175564 -0.00185693 -0.00171824 -0.00278649 -0.00263565 -0.00316005\n",
      " -0.00338742 -0.00139997 -0.00197594 -0.00182247 -0.00178246 -0.001985\n",
      " -0.00244476 -0.00116399 -0.00219282 -0.00258783 -0.00274213 -0.0027336\n",
      " -0.00214252 -0.00156732 -0.00287042 -0.00232558 -0.00297977 -0.00290688\n",
      " -0.00183206 -0.00281623 -0.00143055 -0.00242586 -0.00188742 -0.00146892\n",
      " -0.00249256 -0.0021207  -0.00217805 -0.00215325 -0.00162711 -0.00338461\n",
      " -0.00181193 -0.00218224 -0.00126515 -0.0022109  -0.00217789 -0.00372422\n",
      " -0.00238818 -0.00067167 -0.00365195 -0.00204145] 0.009900990099009901\n"
     ]
    }
   ],
   "execution_count": 46
  },
  {
   "metadata": {
    "ExecuteTime": {
     "end_time": "2025-04-15T14:37:41.251514Z",
     "start_time": "2025-04-15T14:37:38.533154Z"
    }
   },
   "cell_type": "code",
   "source": [
    "from sklearn.ensemble import RandomForestRegressor\n",
    "\n",
    "rf = RandomForestRegressor(random_state=42)\n",
    "rf.fit(filtered[features], filtered['log_inhibition'])\n",
    "\n",
    "# Get the feature importances\n",
    "importances = rf.feature_importances_\n",
    "importance_df = pd.DataFrame({\n",
    "    'Feature': X.columns,\n",
    "    'Importance': importances\n",
    "}).sort_values(by='Importance', ascending=False)"
   ],
   "id": "291b77b868cbed56",
   "outputs": [],
   "execution_count": 47
  },
  {
   "metadata": {
    "ExecuteTime": {
     "end_time": "2025-04-15T14:37:41.301787Z",
     "start_time": "2025-04-15T14:37:41.298618Z"
    }
   },
   "cell_type": "code",
   "source": [
    "for index, row in importance_df.iterrows():\n",
    "    print(f\"{row['Feature']:<40} {row['Importance']:.3}\")"
   ],
   "id": "2ffbf3e174ed02ab",
   "outputs": [
    {
     "name": "stdout",
     "output_type": "stream",
     "text": [
      "sense_start                              0.528\n",
      "Treatment_Period(hours)                  0.129\n",
      "ASO_volume(nM)                           0.0879\n",
      "log_volume                               0.086\n",
      "log_density                              0.059\n",
      "Cell_line_A431                           0.0308\n",
      "Modification_cEt/5-methylcytosines/deoxy 0.0161\n",
      "Transfection_free uptake                 0.0157\n",
      "sense_length                             0.0121\n",
      "Modification_MOE/cEt/5-methylcytosines/deoxy 0.0102\n",
      "Cell_line_MM.1R                          0.00413\n",
      "Cell_line_KMS11                          0.00371\n",
      "Cell_line_U251                           0.00296\n",
      "Cell_line_SK-MEL-28                      0.00249\n",
      "Modification_LNA/deoxy                   0.00221\n",
      "Modification_MOE/5-methylcytosines/deoxy 0.00195\n",
      "Modification_cEt/o-methylribose/5-methylcytosines/deoxy 0.00193\n",
      "Transfection_electroporation             0.00125\n",
      "Cell_line_SH-SY5Y                        0.000909\n",
      "Cell_line_KARPAS-229                     0.000767\n",
      "Cell_line_HepaRG                         0.000703\n",
      "Cell_line_HepG2                          0.000533\n",
      "Modification_(S)-cEt/5-methylcytosines/MOE/deoxy 0.000368\n",
      "Modification_(S)-cEt/5-methylcytosines/deoxy 0.000343\n",
      "Transfection_uptake                      0.000307\n",
      "Cell_line_A-431                          0.000257\n",
      "Cell_line_Human IPS                      8.36e-05\n",
      "Transfection_Lipofectin reagent          7.07e-05\n",
      "Cell_line_SNU-449                        4.86e-05\n",
      "Cell_line_H929                           4e-05\n",
      "Cell_line_NCI-H460                       3.63e-05\n",
      "Modification_MOE/cEt/o-methylribose/5-methylcytosines/deoxy 1.17e-05\n"
     ]
    }
   ],
   "execution_count": 48
  },
  {
   "metadata": {
    "ExecuteTime": {
     "end_time": "2025-04-15T14:37:41.563873Z",
     "start_time": "2025-04-15T14:37:41.414957Z"
    }
   },
   "cell_type": "code",
   "source": [
    "# Evaluate the model's choice of features by leaving one out and calculating the score\n",
    "\n",
    "cv = 5\n",
    "scorer = spearman_scorer\n",
    "jobs = -1\n",
    "feature_importances = []\n",
    "\n",
    "\n",
    "for feature in feature_base:\n",
    "    score_without_feature = cross_val_score(model, X.drop(columns=[feature]), Y, cv=cv, scoring=scorer, n_jobs=jobs).mean()\n",
    "    # print(f\"Dropping {feature}: performance drop = {baseline_score - score_without_feature}\")\n",
    "    feature_importances.append((feature, float(baseline_score - score_without_feature)))\n",
    "\n",
    "print(\"Done base features\")\n",
    "\n",
    "for i in range(len(one_hot_encoded_features)):\n",
    "    feature_name = ONE_HOT_FEATURE_NAMES[i]\n",
    "    feature = one_hot_encoded_features[i]\n",
    "\n",
    "    score_without_cell_line = cross_val_score(model, X.drop(columns=feature), Y, cv=cv, scoring=scorer, n_jobs=jobs).mean()\n",
    "    performance_diff = baseline_score - score_without_cell_line\n",
    "    feature_importances.append((feature_name, float(performance_diff)))\n",
    "\n",
    "sorted_data = sorted(feature_importances, key=lambda x: x[1], reverse=True)\n",
    "for datum in sorted_data:\n",
    "    print(datum)\n",
    "\n",
    "print(\"The baseline is: \", baseline_score)\n",
    "print(\"The spearman baseline is: \", spearman_score)"
   ],
   "id": "1c6eeb1c16e58fde",
   "outputs": [
    {
     "name": "stdout",
     "output_type": "stream",
     "text": [
      "The baseline is:  0.3286770993926023\n",
      "The spearman baseline is:  0.28732121387936294\n",
      "Done base features\n",
      "('Cell_line', 0.16248803588779034)\n",
      "('Transfection', 0.08604828824513602)\n",
      "('Modification', 0.04454944139230688)\n",
      "('sense_length', 0.0420491252817663)\n",
      "('sense_start', 0.03438789096115269)\n"
     ]
    }
   ],
   "execution_count": 49
  },
  {
   "metadata": {},
   "cell_type": "code",
   "outputs": [],
   "execution_count": null,
   "source": "",
   "id": "a710e939e3aa106e"
  }
 ],
 "metadata": {
  "kernelspec": {
   "display_name": "Python 3",
   "language": "python",
   "name": "python3"
  },
  "language_info": {
   "codemirror_mode": {
    "name": "ipython",
    "version": 2
   },
   "file_extension": ".py",
   "mimetype": "text/x-python",
   "name": "python",
   "nbconvert_exporter": "python",
   "pygments_lexer": "ipython2",
   "version": "2.7.6"
  }
 },
 "nbformat": 4,
 "nbformat_minor": 5
}
