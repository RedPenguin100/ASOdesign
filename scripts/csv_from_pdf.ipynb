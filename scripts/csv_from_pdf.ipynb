{
 "cells": [
  {
   "cell_type": "code",
   "id": "initial_id",
   "metadata": {
    "collapsed": true
   },
   "source": [
    "import os\n",
    "import pdfplumber\n",
    "import pandas as pd\n",
    "from io import StringIO\n",
    "\n",
    "data_folder = os.path.abspath('../papers/')\n",
    "print(\"data_folder, \", data_folder)\n",
    "pdf_path = os.path.join(data_folder, 'ASO_rna_seq_EFO21/rna_seq.pdf')\n",
    "\n",
    "capture = False\n",
    "\n",
    "table_to_lines = dict()\n",
    "tables = range(3, 12)\n",
    "\n",
    "with pdfplumber.open(pdf_path) as pdf:\n",
    "    for table_num in tables:\n",
    "        table_lines = []\n",
    "        for page in pdf.pages:\n",
    "            text = page.extract_text()\n",
    "            for line in text.splitlines():\n",
    "                if capture and f\"Supplementary Table {table_num} lists\" in line:\n",
    "                    capture = False\n",
    "                    break\n",
    "                if f\"Supplementary Table {table_num}\" in line:\n",
    "                    capture = True\n",
    "                    continue\n",
    "\n",
    "                if capture and line.strip():\n",
    "                    table_lines.append(line.strip())\n",
    "        table_to_lines[table_num] = table_lines\n",
    "\n",
    "print(len(table_to_lines))\n",
    "print(table_to_lines)\n"
   ],
   "outputs": [],
   "execution_count": null
  },
  {
   "metadata": {},
   "cell_type": "code",
   "source": [
    "dataframes = []\n",
    "header = 'ASO ENSEMBL_Transcript_ID ENSEMBL_Gene_ID mean_expression log2(FoldChange) padj'\n",
    "\n",
    "for table_num, table_line in table_to_lines.items():\n",
    "\n",
    "    if not table_line[0].startswith('ASO'):\n",
    "        table_line.insert(0, header)\n",
    "    else:\n",
    "        table_line[0] = header\n",
    "\n",
    "    if table_line[1] == '2':\n",
    "        table_line.pop(1)\n",
    "\n",
    "    table_text = '\\n'.join(table_line)\n",
    "    data_io = StringIO(table_text)\n",
    "    df = pd.read_csv(data_io, delim_whitespace=True)\n",
    "    dataframes.append(df)\n",
    "\n",
    "concatenated_df = pd.concat(dataframes, ignore_index=True)\n",
    "\n",
    "print(concatenated_df)"
   ],
   "id": "8814b31ceb5e77d5",
   "outputs": [],
   "execution_count": null
  },
  {
   "metadata": {},
   "cell_type": "code",
   "source": [
    "paper_path = os.path.join(data_folder, 'ASO_rna_seq_EFO21')\n",
    "concatenated_df.to_csv(os.path.join(paper_path,'parsed', 'rna_seq.csv'), index=False)"
   ],
   "id": "1333e90be424fa34",
   "outputs": [],
   "execution_count": null
  },
  {
   "metadata": {},
   "cell_type": "code",
   "source": "",
   "id": "50ee86c31dc3264",
   "outputs": [],
   "execution_count": null
  }
 ],
 "metadata": {
  "kernelspec": {
   "display_name": "Python 3",
   "language": "python",
   "name": "python3"
  },
  "language_info": {
   "codemirror_mode": {
    "name": "ipython",
    "version": 2
   },
   "file_extension": ".py",
   "mimetype": "text/x-python",
   "name": "python",
   "nbconvert_exporter": "python",
   "pygments_lexer": "ipython2",
   "version": "2.7.6"
  }
 },
 "nbformat": 4,
 "nbformat_minor": 5
}
