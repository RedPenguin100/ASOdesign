{
 "cells": [
  {
   "cell_type": "code",
   "execution_count": 2,
   "id": "d4e0823384ae0a08",
   "metadata": {
    "ExecuteTime": {
     "end_time": "2025-04-18T21:36:31.301082Z",
     "start_time": "2025-04-18T21:36:30.912231Z"
    }
   },
   "outputs": [],
   "source": [
    "import pandas as pd\n",
    "from asodesigner.consts import *\n",
    "from asodesigner.file_utils import read_human_genome_fasta_dict\n",
    "\n",
    "all_data = pd.read_csv(DATA_PATH / 'data_from_article_fixed.csv')"
   ]
  },
  {
   "cell_type": "code",
   "execution_count": 3,
   "id": "b04d398807497922",
   "metadata": {
    "ExecuteTime": {
     "end_time": "2025-04-18T21:36:31.311733Z",
     "start_time": "2025-04-18T21:36:31.307381Z"
    }
   },
   "outputs": [],
   "source": [
    "from data_genertion.consts import *"
   ]
  },
  {
   "cell_type": "markdown",
   "id": "59052334",
   "metadata": {},
   "source": [
    "### pairwise comparison"
   ]
  },
  {
   "cell_type": "code",
   "execution_count": 4,
   "id": "6ea1df52",
   "metadata": {},
   "outputs": [
    {
     "name": "stdout",
     "output_type": "stream",
     "text": [
      "Cell line: A431, Size: 6685\n",
      "Cell line: NCI-H460, Size: 18\n",
      "Cell line: SH-SY5Y, Size: 1767\n",
      "Cell line: Human IPS, Size: 24\n",
      "Cell line: LLC-MK2 monkey, Size: 2\n",
      "Cell line: KARPAS-229, Size: 987\n",
      "Cell line: MM.1R, Size: 3396\n",
      "Cell line: SK-MEL-28, Size: 2876\n",
      "Cell line: H929, Size: 73\n",
      "Cell line: KMS11, Size: 52\n",
      "Cell line: HepG2, Size: 6104\n",
      "Cell line: SNU-449, Size: 1119\n",
      "Cell line: HepaRG, Size: 6749\n",
      "Cell line: Hela, Size: 128\n",
      "Cell line: SK cells asyn, Size: 232\n",
      "Cell line: PAC neurons asyn, Size: 264\n",
      "Cell line: Angptl2/Actin, Size: 376\n",
      "Cell line: Tubulin, Size: 804\n",
      "Cell line: Oscillation, Size: 181\n",
      "Cell line: Human Neuronal Cell, Size: 3899\n",
      "Cell line: Mouse Primary Neuronal Cell, Size: 106\n",
      "Cell line: U251, Size: 138\n",
      "Cell line: CC-2580, Size: 910\n",
      "Total number of pairs: 84821469.0\n"
     ]
    }
   ],
   "source": [
    "# how many Cell lines are in the data, print cell line and size\n",
    "cell_lines = all_data['Cell_line'].unique()\n",
    "sum = 0\n",
    "for cell_line in cell_lines:\n",
    "    size = all_data[all_data['Cell_line'] == cell_line].shape[0]\n",
    "    sum += size*(size-1)/2\n",
    "    print(f'Cell line: {cell_line}, Size: {size}')\n",
    "    \n",
    "print(f'Total number of pairs: {sum}')\n"
   ]
  },
  {
   "cell_type": "code",
   "execution_count": 5,
   "id": "dc5024d3",
   "metadata": {},
   "outputs": [],
   "source": [
    "import pandas as pd\n",
    "from itertools import combinations\n",
    "from tqdm.auto import tqdm\n",
    "\n",
    "# group by 'Cell_line' that has less than 300 rows\n",
    "all_data = all_data[all_data['Cell_line'].isin(\n",
    "    all_data['Cell_line'].value_counts()[all_data['Cell_line'].value_counts() < 1000].index)]\n",
    "\n",
    "def generate_pairwise_cl_diffs(df_cl,name):\n",
    "    local_list = []\n",
    "    for aso1, aso2 in combinations(df_cl['ISIS'].unique(), 2):\n",
    "        row1 = df_cl[df_cl['ISIS'] == aso1]\n",
    "        row2 = df_cl[df_cl['ISIS'] == aso2]\n",
    "\n",
    "        if not row1.empty and not row2.empty:\n",
    "            diff = row1['Inhibition(%)'].iloc[0] - row2['Inhibition(%)'].iloc[0]\n",
    "            \n",
    "            local_list.append({\n",
    "                'Cell_line': name,\n",
    "                'ASO1':        aso1,\n",
    "                'ASO2':        aso2,\n",
    "                'Diff':        diff\n",
    "            })\n",
    "    return local_list\n",
    "\n",
    "def generate_pairwise_diffs(df, out_csv):\n",
    "    \n",
    "    master_df = pd.DataFrame(columns=['Cell_line', 'ASO1', 'ASO2', 'Diff'])\n",
    "    \n",
    "    cell_groups = list(df.groupby('Cell_line'))\n",
    "    cell_line_names = [name for name, _ in cell_groups]\n",
    "    \n",
    "    # Iterate over each cell line and generate pairwise differences\n",
    "    for name in tqdm(cell_line_names, desc='Processing cell lines'):\n",
    "        df_cl = df[df['Cell_line'] == name]\n",
    "        \n",
    "        # Generate pairwise differences for the current cell line\n",
    "        local_list = generate_pairwise_cl_diffs(df_cl, name)\n",
    "        \n",
    "        # Create a DataFrame from the local list\n",
    "        local_df = pd.DataFrame(local_list, columns=['Cell_line', 'ASO1', 'ASO2', 'Diff'])\n",
    "        \n",
    "        # Append to the master DataFrame\n",
    "        master_df = pd.concat([master_df, local_df], ignore_index=True)\n",
    "    # Save the master DataFrame to a CSV file\n",
    "    master_df.to_csv(out_csv, index=False)\n",
    "\n",
    "# out_csv = 'pairwise_diffs_300.csv'\n",
    "# generate_pairwise_diffs(all_data, out_csv)\n"
   ]
  },
  {
   "cell_type": "code",
   "execution_count": 6,
   "id": "7c88f427",
   "metadata": {},
   "outputs": [],
   "source": [
    "# the question we are trying to answer is do cell lines react differently to a specific feature, e.g CG content\n",
    "# to answer this we need to calculate the difference in inhibition between two ASOs for each cell line\n",
    "# then we need to calculate the difference in the feature for the two ASOs (e.g difference in % of CG content)\n",
    "# then we can plot the difference in inhibition against the difference in feature for each cell line"
   ]
  },
  {
   "cell_type": "code",
   "execution_count": 8,
   "id": "13e0976e",
   "metadata": {},
   "outputs": [
    {
     "name": "stdout",
     "output_type": "stream",
     "text": [
      "       ISIS          Sequence  GC_content\n",
      "927  651530  TGACTAATAGCAGTGG      0.4375\n",
      "928  651555  TTTAATGTCACAAGCA      0.3125\n",
      "929  651587  GATTTGTCAGCAGGAC      0.5000\n",
      "930  651987  GCTATTAGGAGTCTTT      0.3750\n",
      "931  695785  AATGGTGAATATCTTC      0.3125\n",
      "Cell line: Angptl2/Actin, Slope: -68.959, Intercept: 1.857, R²: 0.073, p-value: 0.000\n",
      "Cell line: CC-2580, Slope: -326.716, Intercept: -0.448, R²: 0.072, p-value: 0.000\n",
      "Cell line: H929, Slope: -62.209, Intercept: 2.890, R²: 0.085, p-value: 0.000\n",
      "Cell line: Human IPS, Slope: -89.900, Intercept: 10.099, R²: 0.173, p-value: 0.000\n",
      "Cell line: KARPAS-229, Slope: -52.621, Intercept: -0.004, R²: 0.057, p-value: 0.000\n",
      "Cell line: KMS11, Slope: -91.282, Intercept: 1.497, R²: 0.229, p-value: 0.000\n",
      "Cell line: Mouse Primary Neuronal Cell, Slope: 48.883, Intercept: 4.106, R²: 0.065, p-value: 0.000\n",
      "Cell line: NCI-H460, Slope: 15.975, Intercept: -4.295, R²: 0.008, p-value: 0.258\n",
      "Cell line: Oscillation, Slope: 13.535, Intercept: -6.119, R²: 0.002, p-value: 0.000\n",
      "Cell line: PAC neurons asyn, Slope: 290.118, Intercept: 1.330, R²: 0.065, p-value: 0.000\n",
      "Cell line: SK cells asyn, Slope: 56.612, Intercept: -0.429, R²: 0.004, p-value: 0.000\n",
      "Cell line: Tubulin, Slope: -2.133, Intercept: 6.685, R²: 0.000, p-value: 0.000\n",
      "Cell line: U251, Slope: -51.868, Intercept: 9.261, R²: 0.021, p-value: 0.000\n"
     ]
    }
   ],
   "source": [
    "import pandas as pd\n",
    "import numpy as np\n",
    "import matplotlib.pyplot as plt\n",
    "from sklearn.linear_model import LinearRegression\n",
    "from scipy import stats\n",
    "\n",
    "# ========== Load Data ==========\n",
    "# Update these paths to your actual file locations:\n",
    "pairs_df = pd.read_csv('pairwise_diffs_1000.csv')   # expects columns: ['Cell_line','ASO1','ASO2','Diff', ...]\n",
    "\n",
    "# ========== Compute Feature ==========\n",
    "# Example: GC content feature\n",
    "all_data['GC_content'] = all_data['Sequence'].str.count('G|C') / all_data['seq_length']\n",
    "gc_lookup = all_data.drop_duplicates('ISIS').set_index('ISIS')['GC_content']\n",
    "\n",
    "print(all_data[['ISIS', 'Sequence', 'GC_content']].head())\n",
    "\n",
    "# Map Δ feature onto pairs\n",
    "pairs_df['Diff_GC_content'] = (\n",
    "    pairs_df['ASO1'].map(gc_lookup)\n",
    "    - pairs_df['ASO2'].map(gc_lookup)\n",
    ")\n",
    "\n",
    "# ========== Linear Regression per Cell Line ==========\n",
    "for cell_line, group in pairs_df.groupby('Cell_line'):\n",
    "    x = group['Diff_GC_content'].to_numpy().reshape(-1, 1)  # feature matrix\n",
    "    y = group['Diff'].to_numpy()                            # target vector\n",
    "\n",
    "    # Skip groups without variance\n",
    "    if len(group) < 2 or np.unique(x).size < 2:\n",
    "        continue\n",
    "\n",
    "    # Fit Linear Regression\n",
    "    model = LinearRegression()\n",
    "    model.fit(x, y)\n",
    "    slope = model.coef_[0]\n",
    "    intercept = model.intercept_\n",
    "    r2 = model.score(x, y)\n",
    "\n",
    "    # Generate prediction line\n",
    "    x_line = np.array([[x.min()], [x.max()]])\n",
    "    y_line = model.predict(x_line)\n",
    "    #  calculate also p-value\n",
    "    p_value = stats.linregress(x.flatten(), y).pvalue\n",
    "    print(f\"Cell line: {cell_line}, Slope: {slope:.3f}, Intercept: {intercept:.3f}, R²: {r2:.3f}, p-value: {p_value:.3f}\")\n",
    "\n",
    "    # Plot\n",
    "    # plt.figure(figsize=(6, 4))\n",
    "    # plt.scatter(x, y, alpha=0.6, label='Data points')\n",
    "    # plt.plot(x_line, y_line, 'r--', linewidth=2, label=f'Fit: y={slope:.3f}x+{intercept:.3f}')\n",
    "    # plt.title(f\"{cell_line}\\nR² = {r2:.3f}\")\n",
    "    # plt.xlabel('Δ GC content')\n",
    "    # plt.ylabel('Δ Inhibition (%)')\n",
    "    # plt.legend()\n",
    "    # plt.tight_layout()\n",
    "    # plt.show()\n",
    "\n",
    "# # ========== Optional: Plotting All Cell Lines Together ==========\n",
    "# plt.figure(figsize=(10, 6))\n",
    "# for cell_line, group in pairs_df.groupby('Cell_line'):\n",
    "#     x = group['Diff_GC_content'].to_numpy().reshape(-1, 1)\n",
    "#     y = group['Diff'].to_numpy()\n",
    "    \n",
    "#     # Skip groups without variance\n",
    "#     if len(group) < 2 or np.unique(x).size < 2 :\n",
    "#         continue\n",
    "    \n",
    "#     model = LinearRegression()\n",
    "#     model.fit(x, y)\n",
    "#     y_pred = model.predict(x_line)\n",
    "    \n",
    "#     plt.plot(x_line, y_pred, label=cell_line)\n",
    "\n",
    "# plt.xlabel('Δ GC content')\n",
    "# plt.ylabel('Δ Inhibition (%)')\n",
    "# plt.title('Linear Trendlines by Cell Line')\n",
    "# plt.legend(bbox_to_anchor=(1.05, 1), loc='upper left', fontsize='small')\n",
    "# plt.tight_layout()\n",
    "# plt.show()\n",
    "\n"
   ]
  }
 ],
 "metadata": {
  "kernelspec": {
   "display_name": "aso_design",
   "language": "python",
   "name": "python3"
  },
  "language_info": {
   "codemirror_mode": {
    "name": "ipython",
    "version": 3
   },
   "file_extension": ".py",
   "mimetype": "text/x-python",
   "name": "python",
   "nbconvert_exporter": "python",
   "pygments_lexer": "ipython3",
   "version": "3.11.11"
  }
 },
 "nbformat": 4,
 "nbformat_minor": 5
}
