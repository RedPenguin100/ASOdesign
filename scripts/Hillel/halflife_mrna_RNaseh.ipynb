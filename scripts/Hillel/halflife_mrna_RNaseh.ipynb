{
 "cells": [
  {
   "cell_type": "code",
   "execution_count": 6,
   "id": "initial_id",
   "metadata": {
    "ExecuteTime": {
     "end_time": "2025-07-27T14:21:39.942656Z",
     "start_time": "2025-07-27T14:21:38.283809Z"
    },
    "collapsed": true
   },
   "outputs": [
    {
     "name": "stdout",
     "output_type": "stream",
     "text": [
      "Loading features from: ['ASO_volume(nM).csv', 'Canonical Gene Name.csv', 'Cell line organism.csv', 'Cell_line.csv', 'Chemical_Pattern.csv', 'Density(cells_per_well).csv', 'ISIS.csv', 'Inhibition(%).csv', 'Linkage.csv', 'Linkage_Location.csv', 'Location.csv', 'Location_div_by_length.csv', 'Location_in_sequence.csv', 'Modification.csv', 'Primer_probe_set.csv', 'Sequence.csv', 'Target_gene.csv', 'Transcript.csv', 'Transfection.csv', 'Treatment_Period(hours).csv', 'at_rich_region_score.csv', 'at_skew.csv', 'cell_line_uniform.csv', 'dsm_su95_rev_wGU_pos1382t37Falseon_target_energy_max600.csv', 'dsm_su95_rev_wGU_pos1382t37Trueon_target_energy_max600.csv', 'dsm_su95_rev_wGU_pos1384t37Falseon_target_energy_max600.csv', 'dsm_su95_rev_wGU_pos1384t37Trueon_target_energy_max600.csv', 'dsm_su95_rev_wGU_pos1386t37Falseon_target_energy_max600.csv', 'dsm_su95_rev_wGU_pos1386t37Trueon_target_energy_max600.csv', 'dsm_su95_rev_woGU_pos1382t37Falseon_target_energy_max600.csv', 'dsm_su95_rev_woGU_pos1382t37Trueon_target_energy_max600.csv', 'dsm_su95_rev_woGU_pos1384t37Falseon_target_energy_max600.csv', 'dsm_su95_rev_woGU_pos1384t37Trueon_target_energy_max600.csv', 'dsm_su95_rev_woGU_pos1386t37Falseon_target_energy_max600.csv', 'dsm_su95_rev_woGU_pos1386t37Trueon_target_energy_max600.csv', 'entropy.csv', 'exp_ps_hybr.csv', 'exp_ps_hybr_norm.csv', 'first_nucleotide.csv', 'gc_content.csv', 'gc_content_3_prime_5.csv', 'gc_content_5_prime_5.csv', 'gc_skew.csv', 'hairpin_score.csv', 'homooligo_count.csv', 'index.csv', 'internal_fold.csv', 'log_inhibition.csv', 'md_moe_hybr.csv', 'md_moe_hybr_norm.csv', 'md_ps_hybr.csv', 'md_ps_hybr_norm.csv', 'melting_temperature_1.csv', 'mfe_edges_45.csv', 'mfe_window_45.csv', 'min_mfe_45.csv', 'mod_scan.csv', 'moe_hybr.csv', 'moe_hybr_norm.csv', 'mrna_length.csv', 'normalized_start.csv', 'nucleotide_diversity.csv', 'off_target_feature.csv', 'off_target_feature_50.csv', 'off_target_feature_500.csv', 'on_target_fold_openness40_15.csv', 'on_target_fold_openness_normalized40_15.csv', 'poly_pyrimidine_stretch.csv', 'second_nucleotide.csv', 'self_energy.csv', 'sense_avg_accessibility.csv', 'sense_length.csv', 'sense_start.csv', 'sense_type.csv', 'seq_length.csv', 'stop_codon_count.csv', 'true_length_of_seq.csv']\n"
     ]
    }
   ],
   "source": [
    "import os\n",
    "os.chdir('/home/espl/ASOdesign/scripts')\n",
    "\n",
    "from data_genertion.consts import *\n",
    "from scripts.features.feature_extraction import load_all_features\n",
    "\n",
    "main_df = load_all_features()\n",
    "main_df[SEQUENCE] = main_df[SEQUENCE].astype(str)"
   ]
  },
  {
   "cell_type": "code",
   "execution_count": 7,
   "id": "f7863095",
   "metadata": {},
   "outputs": [
    {
     "name": "stdout",
     "output_type": "stream",
     "text": [
      "Pearson correlation between halflife and log_inhibition: 0.192 (p=9.55e-151)\n",
      "Spearman correlation between halflife and log_inhibition: 0.270 (p=1.86e-302)\n"
     ]
    }
   ],
   "source": [
    "#half life per cell line feature\n",
    "import gzip\n",
    "import pandas as pd\n",
    "\n",
    "# Gene mapping\n",
    "genes = {\n",
    "    \"ENSG00000133703\": \"KRAS\",\n",
    "    \"ENSG00000145335\": \"SNCA\", \n",
    "    \"ENSG00000128604\": \"IRF5\",\n",
    "    \"ENSG00000251562\": \"MALAT1\",\n",
    "    \"ENSG00000137265\": \"IRF4\",\n",
    "    \"ENSG00000137693\": \"YAP1\",\n",
    "    \"ENSG00000166033\": \"HTRA1\",\n",
    "    \"ENSG00000170509\": \"HSD17B13\",\n",
    "    \"ENSG00000100644\": \"HIF1A\",\n",
    "    \"ENSG00000224078\": \"SNHG14\",\n",
    "    \"ENSG00000092054\": \"MYH7\",\n",
    "    \"ENSG00000142168\": \"SOD1\",\n",
    "    \"ENSG00000062282\": \"DGAT2\",\n",
    "    \"ENSG00000100342\": \"APOL1\",\n",
    "}\n",
    "\n",
    "# Read and process\n",
    "with gzip.open(\"all_HLs_human_featTable.txt.gz\", \"rt\") as f:\n",
    "    df = pd.read_csv(f, sep=\"\\t\")\n",
    "\n",
    "filtered = df[df[\"ENSID\"].isin(genes.keys())].copy()\n",
    "filtered[\"GENE\"] = filtered[\"ENSID\"].map(genes)\n",
    "halflife_df = filtered[[\"GENE\", \"HALFLIFE\"]]\n",
    "\n",
    "# Create a dictionary mapping gene name to halflife\n",
    "gene_to_halflife = dict(zip(halflife_df[\"GENE\"], halflife_df[\"HALFLIFE\"]))\n",
    "\n",
    "# Add the halflife column to main_df by mapping the canonical gene name\n",
    "main_df[\"halflife\"] = main_df[CANONICAL_GENE].map(gene_to_halflife)\n",
    "\n",
    "from scipy.stats import pearsonr, spearmanr\n",
    "\n",
    "# Drop rows where either 'halflife' or 'log_inhibition' is NaN\n",
    "valid = main_df[['halflife', 'log_inhibition']].dropna()\n",
    "\n",
    "pearson_corr, pearson_p = pearsonr(valid['halflife'], valid['log_inhibition'])\n",
    "spearman_corr, spearman_p = spearmanr(valid['halflife'], valid['log_inhibition'])\n",
    "\n",
    "print(f\"Pearson correlation between halflife and log_inhibition: {pearson_corr:.3f} (p={pearson_p:.3g})\")\n",
    "print(f\"Spearman correlation between halflife and log_inhibition: {spearman_corr:.3f} (p={spearman_p:.3g})\")"
   ]
  },
  {
   "cell_type": "code",
   "execution_count": null,
   "id": "dc97183b",
   "metadata": {},
   "outputs": [
    {
     "name": "stdout",
     "output_type": "stream",
     "text": [
      "Pearson correlation between mRNA_expression and log_inhibition: 0.0383 (p=0.000158)\n",
      "Spearman correlation between mRNA_expression and log_inhibition: 0.0223 (p=0.0279)\n"
     ]
    }
   ],
   "source": [
    "# expression level of on target feature\n",
    "import pandas as pd\n",
    "\n",
    "# Cell line mapping\n",
    "cellline_to_ach = {\n",
    "    'A431': 'ACH-001328',\n",
    "    'A-431': 'ACH-001328', \n",
    "    'NCI-H460': 'ACH-000463',\n",
    "    'SH_SY5Y': 'ACH-001188',\n",
    "    'SH-SY5Y': 'ACH-001188',\n",
    "    'HeLa': 'ACH-001086',\n",
    "    'Hela': 'ACH-001086',\n",
    "    'HepG2': 'ACH-000739',\n",
    "    'U-251MG': 'ACH-000232',\n",
    "    'U251': 'ACH-000232'\n",
    "}\n",
    "\n",
    "# Read the mRNA expression data - genes are in columns, not rows\n",
    "mrna_df = pd.read_csv(\"OmicsExpressionProteinCodingGenesTPMLogp1.csv\", index_col=0)\n",
    "mrna_df = mrna_df.T\n",
    "# Create a mapping from clean gene names to the full index names\n",
    "gene_name_mapping = {}\n",
    "for full_name in mrna_df.index:\n",
    "    clean_name = full_name.split(' (')[0]\n",
    "    gene_name_mapping[clean_name] = full_name\n",
    "\n",
    "# Function to get mRNA expression for a gene in a cell line\n",
    "def get_mrna_expression(gene_name, cell_line):\n",
    "    ach_id = cellline_to_ach.get(cell_line)\n",
    "    if ach_id and ach_id in mrna_df.columns:\n",
    "        full_gene_name = gene_name_mapping.get(gene_name)\n",
    "        if full_gene_name and full_gene_name in mrna_df.index:\n",
    "            return mrna_df.loc[full_gene_name, ach_id]\n",
    "    return None\n",
    "\n",
    "# Add mRNA expression column to main_df\n",
    "main_df['mRNA_expression'] = main_df.apply(\n",
    "    lambda row: get_mrna_expression(row['Canonical Gene Name'], row['Cell_line']), \n",
    "    axis=1\n",
    ") \n",
    "from scipy.stats import pearsonr, spearmanr\n",
    "\n",
    "# Calculate Pearson and Spearman correlation between mRNA_expression and log_inhibition\n",
    "corr_df = main_df[['mRNA_expression', 'log_inhibition']].dropna()\n",
    "\n",
    "pearson_corr, pearson_p = pearsonr(corr_df['mRNA_expression'], corr_df['log_inhibition'])\n",
    "spearman_corr, spearman_p = spearmanr(corr_df['mRNA_expression'], corr_df['log_inhibition'])\n",
    "\n",
    "print(f\"Pearson correlation between mRNA_expression and log_inhibition: {pearson_corr:.4f} (p={pearson_p:.4g})\")\n",
    "print(f\"Spearman correlation between mRNA_expression and log_inhibition: {spearman_corr:.4f} (p={spearman_p:.4g})\")\n"
   ]
  },
  {
   "cell_type": "code",
   "execution_count": 9,
   "id": "6b073420",
   "metadata": {},
   "outputs": [
    {
     "name": "stdout",
     "output_type": "stream",
     "text": [
      "Pearson correlation between RNASEH1_expression and log_inhibition: 0.1189 (p=1.946e-41)\n",
      "Spearman correlation between RNASEH1_expression and log_inhibition: 0.1975 (p=1.595e-112)\n"
     ]
    }
   ],
   "source": [
    "#Rnash levels feature\n",
    "\n",
    "# Cell line mapping\n",
    "cellline_to_ach = {\n",
    "    'A431': 'ACH-001328',\n",
    "    'A-431': 'ACH-001328', \n",
    "    'NCI-H460': 'ACH-000463',\n",
    "    'SH_SY5Y': 'ACH-001188',\n",
    "    'SH-SY5Y': 'ACH-001188',\n",
    "    'HeLa': 'ACH-001086',\n",
    "    'Hela': 'ACH-001086',\n",
    "    'HepG2': 'ACH-000739',\n",
    "    'U-251MG': 'ACH-000232',\n",
    "    'U251': 'ACH-000232'\n",
    "}\n",
    "\n",
    "# Read the mRNA expression data - genes are in columns, not rows\n",
    "mrna_df = pd.read_csv(\"OmicsExpressionProteinCodingGenesTPMLogp1.csv\", index_col=0)\n",
    "\n",
    "# Add RNASEH1 expression feature per cell line using the mapping\n",
    "\n",
    "# Get the full column name for RNASEH1\n",
    "rnaseh1_col = 'RNASEH1 (246243)'\n",
    "\n",
    "# Function to get RNASEH1 expression for a cell line\n",
    "def get_rnaseh1_expression(cell_line):\n",
    "    ach_id = cellline_to_ach.get(cell_line)\n",
    "    if ach_id and ach_id in mrna_df.index:\n",
    "        return mrna_df.loc[ach_id, rnaseh1_col]\n",
    "    return None\n",
    "\n",
    "# Add RNASEH1 expression column to main_df\n",
    "main_df['RNASEH1_expression'] = main_df['Cell_line'].apply(get_rnaseh1_expression)\n",
    "\n",
    "from scipy.stats import pearsonr, spearmanr\n",
    "\n",
    "# Calculate Pearson and Spearman correlation between RNASEH1_expression and log_inhibition\n",
    "# Drop rows with missing values in either column\n",
    "corr_df = main_df[['RNASEH1_expression', 'log_inhibition']].dropna()\n",
    "\n",
    "pearson_corr, pearson_p = pearsonr(corr_df['RNASEH1_expression'], corr_df['log_inhibition'])\n",
    "spearman_corr, spearman_p = spearmanr(corr_df['RNASEH1_expression'], corr_df['log_inhibition'])\n",
    "\n",
    "print(f\"Pearson correlation between RNASEH1_expression and log_inhibition: {pearson_corr:.4f} (p={pearson_p:.4g})\")\n",
    "print(f\"Spearman correlation between RNASEH1_expression and log_inhibition: {spearman_corr:.4f} (p={spearman_p:.4g})\")\n"
   ]
  }
 ],
 "metadata": {
  "kernelspec": {
   "display_name": "aso_design",
   "language": "python",
   "name": "python3"
  },
  "language_info": {
   "codemirror_mode": {
    "name": "ipython",
    "version": 3
   },
   "file_extension": ".py",
   "mimetype": "text/x-python",
   "name": "python",
   "nbconvert_exporter": "python",
   "pygments_lexer": "ipython3",
   "version": "3.11.11"
  }
 },
 "nbformat": 4,
 "nbformat_minor": 5
}
