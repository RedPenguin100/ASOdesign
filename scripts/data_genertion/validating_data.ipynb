{
 "cells": [
  {
   "metadata": {
    "ExecuteTime": {
     "end_time": "2025-06-23T08:16:57.878739Z",
     "start_time": "2025-06-23T08:16:57.006363Z"
    }
   },
   "cell_type": "code",
   "source": [
    "import pandas as pd\n",
    "from scripts.data_genertion.consts import *"
   ],
   "id": "a9f62bd1e3b0cf79",
   "outputs": [],
   "execution_count": 1
  },
  {
   "metadata": {},
   "cell_type": "markdown",
   "source": "Added a column of the true length of the sequence according to the string length itself",
   "id": "279dc597f6ff27f1"
  },
  {
   "metadata": {},
   "cell_type": "markdown",
   "source": "Removed any rows with NaN inhibition cells",
   "id": "5af63efca6d9f010"
  },
  {
   "cell_type": "code",
   "id": "initial_id",
   "metadata": {
    "collapsed": true,
    "ExecuteTime": {
     "end_time": "2025-06-23T08:17:09.763441Z",
     "start_time": "2025-06-23T08:17:09.099113Z"
    }
   },
   "source": [
    "df = pd.read_csv('data_updated_18.5.csv')\n",
    "df['true_length_of_seq'] = df[SEQUENCE].apply(len)\n",
    "df = df.dropna(subset=[INHIBITION])"
   ],
   "outputs": [
    {
     "name": "stderr",
     "output_type": "stream",
     "text": [
      "/tmp/ipykernel_2545/2826274691.py:1: DtypeWarning: Columns (19) have mixed types. Specify dtype option on import or set low_memory=False.\n",
      "  df = pd.read_csv('data_updated_18.5.csv')\n"
     ]
    }
   ],
   "execution_count": 2
  },
  {
   "metadata": {},
   "cell_type": "markdown",
   "source": "Filling Nan values",
   "id": "34e70cbd0afc6204"
  },
  {
   "metadata": {
    "ExecuteTime": {
     "end_time": "2025-06-23T08:17:11.638270Z",
     "start_time": "2025-06-23T08:17:11.573376Z"
    }
   },
   "cell_type": "code",
   "source": [
    "df_filled = df.copy()\n",
    "for col in df.columns:\n",
    "    if df[col].dtype == 'object':\n",
    "        df_filled[col] = df[col].fillna(\"\")\n",
    "    else:\n",
    "        df_filled[col] = df[col].fillna(0)"
   ],
   "id": "71b8d5fec5422506",
   "outputs": [],
   "execution_count": 3
  },
  {
   "metadata": {},
   "cell_type": "markdown",
   "source": "This part identify rows that may be the same experiment but with different modifications - in the type, location or pattern. This checks where there are groups of the same 'experiment_keys' that indicate the experiment, and search for more than one unique value at the 'columns_allowed_to_differ' where the modifications or linkage may be different to enable a comparison for only sequences that we can differentiate without considering the modifications. The added column is 'mod_scan', where 1 is a row that has at least one more row with the same experiment values and different modifications or locations of those.",
   "id": "ca8efa741674628c"
  },
  {
   "metadata": {
    "ExecuteTime": {
     "end_time": "2025-06-23T08:17:38.357374Z",
     "start_time": "2025-06-23T08:17:13.460472Z"
    }
   },
   "cell_type": "code",
   "source": [
    "experiment_keys = [SEQUENCE, 'Density(cells/well)', 'Transfection', 'Treatment_Period(hours)', 'ASO_volume(nM)']\n",
    "\n",
    "columns_allowed_to_differ = [MODIFICATION, 'Location', 'Chemical_Pattern', 'Linkage', 'Linkage_Location', 'Smiles',\n",
    "                             INHIBITION]\n",
    "\n",
    "columns_to_compare = [col for col in df_filled.columns if col not in experiment_keys + columns_allowed_to_differ + ['ISIS']]\n",
    "\n",
    "result_temp = []\n",
    "for keys, group in df_filled.groupby(experiment_keys):\n",
    "    # Check if any of the modification-related columns differ\n",
    "    if group[[MODIFICATION, 'Location', 'Chemical_Pattern', 'Linkage', 'Linkage_Location', 'Smiles']].nunique().gt(1).any():\n",
    "        # Check that all other fields (except inhibition + modifications) are the same\n",
    "        compare = group[columns_to_compare].reset_index(drop=True)\n",
    "        if compare.nunique().eq(1).all():\n",
    "            result_temp.append(group)\n",
    "\n",
    "if result_temp:\n",
    "    final_df = pd.concat(result_temp)\n",
    "\n",
    "    # Get the row indices of matched rows\n",
    "    mod_scan_indices = final_df.index\n",
    "\n",
    "    # Add new column to original dataframe\n",
    "    df_filled['mod_scan'] = 0\n",
    "    df_filled.loc[mod_scan_indices, 'mod_scan'] = 1\n",
    "\n",
    "    print(df_filled[df_filled['mod_scan'] == 1])  # Optional: preview marked rows\n",
    "else:\n",
    "    df_filled['mod_scan'] = 0\n",
    "    print(\"No matching ASO experiment groups with only modification-related differences.\")\n"
   ],
   "id": "632d57998fc1949f",
   "outputs": [
    {
     "name": "stdout",
     "output_type": "stream",
     "text": [
      "         ISIS Target_gene Cell_line  Density(cells/well) Transfection  \\\n",
      "2      540806       K-RAS      A431               5000.0  free uptake   \n",
      "13     651966       K-RAS      A431               5000.0  free uptake   \n",
      "15     651987       K-RAS      A431               5000.0  free uptake   \n",
      "30     695867       K-RAS      A431               5000.0  free uptake   \n",
      "31     695912       K-RAS      A431               5000.0  free uptake   \n",
      "...       ...         ...       ...                  ...          ...   \n",
      "37281  972044       APOL1      A431              11000.0  free uptake   \n",
      "37283  972096       APOL1      A431              11000.0  free uptake   \n",
      "37286  969448       APOL1      A431              11000.0  free uptake   \n",
      "37287  971969       APOL1      A431              11000.0  free uptake   \n",
      "37289  972189       APOL1      A431              11000.0  free uptake   \n",
      "\n",
      "       ASO_volume(nM)  Treatment_Period(hours) Primer_probe_set  \\\n",
      "2              2000.0                       24      RTS3496_MGB   \n",
      "13             2000.0                       24      RTS3496_MGB   \n",
      "15             2000.0                       24      RTS3496_MGB   \n",
      "30             2000.0                       24      RTS3496_MGB   \n",
      "31             2000.0                       24      RTS3496_MGB   \n",
      "...               ...                      ...              ...   \n",
      "37281            40.0                       16         RTS35962   \n",
      "37283            40.0                       16         RTS35962   \n",
      "37286            40.0                       16         RTS35962   \n",
      "37287            40.0                       16         RTS35962   \n",
      "37289            40.0                       16         RTS35962   \n",
      "\n",
      "               Sequence                     Modification  ...  \\\n",
      "2      GCATGAAGATTTCTGG      cEt/5-methylcytosines/deoxy  ...   \n",
      "13     CATTTATGTGACTAGA      cEt/5-methylcytosines/deoxy  ...   \n",
      "15     GCTATTAGGAGTCTTT      cEt/5-methylcytosines/deoxy  ...   \n",
      "30     TCCATTTATGTGACTA      cEt/5-methylcytosines/deoxy  ...   \n",
      "31     GACTAATAGCAGTGGA      cEt/5-methylcytosines/deoxy  ...   \n",
      "...                 ...                              ...  ...   \n",
      "37281  TCCGTCAATATATTCT  MOE/cEt/5-methylcytosines/deoxy  ...   \n",
      "37283  GTGTTATATTTGATCC  MOE/cEt/5-methylcytosines/deoxy  ...   \n",
      "37286  TCCGTCAATATATTCT  MOE/cEt/5-methylcytosines/deoxy  ...   \n",
      "37287  GCTAATTTTCTGACTG  MOE/cEt/5-methylcytosines/deoxy  ...   \n",
      "37289  GTGTTATATTTGATCC  MOE/cEt/5-methylcytosines/deoxy  ...   \n",
      "\n",
      "                                                  Smiles Inhibition(%)  \\\n",
      "2      Cc1cn([C@H]2C[C@H](OP(=O)([S-])[O]C[C@H]3O[C@@...          62.0   \n",
      "13     Cc1cn([C@H]2C[C@H](OP(=O)([S-])[O]C[C@]34O[C@@...          56.0   \n",
      "15     Cc1cn([C@H]2C[C@H](OP(=O)([S-])[O]C[C@H]3O[C@@...          76.0   \n",
      "30     Cc1cn([C@H]2C[C@H](OP(=O)([S-])[O]C[C@H]3O[C@@...          68.0   \n",
      "31     Cc1cn([C@H]2C[C@H](OP(=O)([S-])[O]C[C@H]3O[C@@...          62.0   \n",
      "...                                                  ...           ...   \n",
      "37281  COCCO[C@@H]1[C@H](OP(=O)([S-])[O]C[C@]23O[C@@H...          50.0   \n",
      "37283  COCCO[C@@H]1[C@H](OP(=O)([S-])[O]C[C@H]2O[C@@H...          50.0   \n",
      "37286  COCCO[C@@H]1[C@H](OP(=O)([S-])[O]C[C@H]2O[C@@H...          50.0   \n",
      "37287  COCCO[C@@H]1[C@H](OP(=O)([S-])[O]C[C@]23O[C@@H...          50.0   \n",
      "37289  COCCO[C@@H]1[C@H](OP(=O)([S-])[O]C[C@H]2O[C@@H...          50.0   \n",
      "\n",
      "      seq_length Canonical Gene Name Cell line organism  Transcript  \\\n",
      "2             16                KRAS              human               \n",
      "13            16                KRAS              human               \n",
      "15            16                KRAS              human               \n",
      "30            16                KRAS              human               \n",
      "31            16                KRAS              human               \n",
      "...          ...                 ...                ...         ...   \n",
      "37281         16               APOL1              human               \n",
      "37283         16               APOL1              human               \n",
      "37286         16               APOL1              human               \n",
      "37287         16               APOL1              human               \n",
      "37289         16               APOL1              human               \n",
      "\n",
      "       Location_in_sequence Location_div_by_length true_length_of_seq mod_scan  \n",
      "2                   43363.0               0.949049                 16        1  \n",
      "13                  41510.0               0.908494                 16        1  \n",
      "15                  41829.0               0.915476                 16        1  \n",
      "30                  41512.0               0.908538                 16        1  \n",
      "31                  41694.0               0.912521                 16        1  \n",
      "...                     ...                    ...                ...      ...  \n",
      "37281               13850.0               0.957815                 16        1  \n",
      "37283                4957.0               0.342808                 16        1  \n",
      "37286               13850.0               0.957815                 16        1  \n",
      "37287               14333.0               0.991217                 16        1  \n",
      "37289                4957.0               0.342808                 16        1  \n",
      "\n",
      "[10844 rows x 24 columns]\n"
     ]
    }
   ],
   "execution_count": 4
  },
  {
   "metadata": {
    "ExecuteTime": {
     "end_time": "2025-06-23T08:35:30.986254Z",
     "start_time": "2025-06-23T08:35:29.746630Z"
    }
   },
   "cell_type": "code",
   "source": "df_filled.to_csv('data_asoptimizer_updated.csv', index=False)",
   "id": "e458de256146cfba",
   "outputs": [],
   "execution_count": 8
  }
 ],
 "metadata": {
  "kernelspec": {
   "display_name": "Python 3",
   "language": "python",
   "name": "python3"
  },
  "language_info": {
   "codemirror_mode": {
    "name": "ipython",
    "version": 2
   },
   "file_extension": ".py",
   "mimetype": "text/x-python",
   "name": "python",
   "nbconvert_exporter": "python",
   "pygments_lexer": "ipython2",
   "version": "2.7.6"
  }
 },
 "nbformat": 4,
 "nbformat_minor": 5
}
