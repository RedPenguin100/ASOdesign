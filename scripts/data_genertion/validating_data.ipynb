{
 "cells": [
  {
   "metadata": {
    "ExecuteTime": {
     "end_time": "2025-06-25T20:35:17.008299Z",
     "start_time": "2025-06-25T20:35:16.871472Z"
    }
   },
   "cell_type": "code",
   "source": [
    "import pandas as pd\n",
    "from scripts.data_genertion.consts import *"
   ],
   "id": "a9f62bd1e3b0cf79",
   "outputs": [],
   "execution_count": 7
  },
  {
   "metadata": {},
   "cell_type": "markdown",
   "source": "Added a column of the true length of the sequence according to the string length itself",
   "id": "279dc597f6ff27f1"
  },
  {
   "metadata": {},
   "cell_type": "markdown",
   "source": "Removed any rows with NaN inhibition cells",
   "id": "5af63efca6d9f010"
  },
  {
   "cell_type": "code",
   "id": "initial_id",
   "metadata": {
    "collapsed": true,
    "ExecuteTime": {
     "end_time": "2025-06-25T20:35:19.987172Z",
     "start_time": "2025-06-25T20:35:18.807512Z"
    }
   },
   "source": [
    "df = pd.read_csv('data_updated_18.5.csv')\n",
    "df['true_length_of_seq'] = df[SEQUENCE].apply(len)\n",
    "df = df.dropna(subset=[INHIBITION])"
   ],
   "outputs": [
    {
     "name": "stderr",
     "output_type": "stream",
     "text": [
      "/tmp/ipykernel_6710/2826274691.py:1: DtypeWarning: Columns (20) have mixed types. Specify dtype option on import or set low_memory=False.\n",
      "  df = pd.read_csv('data_updated_18.5.csv')\n"
     ]
    }
   ],
   "execution_count": 8
  },
  {
   "metadata": {},
   "cell_type": "markdown",
   "source": "Filling Nan values",
   "id": "34e70cbd0afc6204"
  },
  {
   "metadata": {
    "ExecuteTime": {
     "end_time": "2025-06-25T20:35:24.024629Z",
     "start_time": "2025-06-25T20:35:23.939322Z"
    }
   },
   "cell_type": "code",
   "source": [
    "df_filled = df.copy()\n",
    "for col in df.columns:\n",
    "    if df[col].dtype == 'object':\n",
    "        df_filled[col] = df[col].fillna(\"\")\n",
    "    else:\n",
    "        df_filled[col] = df[col].fillna(0)"
   ],
   "id": "71b8d5fec5422506",
   "outputs": [],
   "execution_count": 9
  },
  {
   "metadata": {},
   "cell_type": "markdown",
   "source": "This part identify rows that may be the same experiment but with different modifications - in the type, location or pattern. This checks where there are groups of the same 'experiment_keys' that indicate the experiment, and search for more than one unique value at the 'columns_allowed_to_differ' where the modifications or linkage may be different to enable a comparison for only sequences that we can differentiate without considering the modifications. The added column is 'mod_scan', where 1 is a row that has at least one more row with the same experiment values and different modifications or locations of those.",
   "id": "ca8efa741674628c"
  },
  {
   "metadata": {
    "ExecuteTime": {
     "end_time": "2025-06-25T20:39:34.462387Z",
     "start_time": "2025-06-25T20:38:59.796207Z"
    }
   },
   "cell_type": "code",
   "source": [
    "experiment_keys = [SEQUENCE, 'Density(cells/well)', 'Transfection', 'Treatment_Period(hours)', 'ASO_volume(nM)']\n",
    "\n",
    "columns_allowed_to_differ = [MODIFICATION, 'Location', 'Chemical_Pattern', 'Linkage', 'Linkage_Location', 'Smiles',\n",
    "                             INHIBITION]\n",
    "\n",
    "columns_to_compare = [col for col in df_filled.columns if col not in experiment_keys + columns_allowed_to_differ + ['ISIS', 'index']]\n",
    "\n",
    "result_temp = []\n",
    "for keys, group in df_filled.groupby(experiment_keys):\n",
    "    # Check if any of the modification-related columns differ\n",
    "    if group[[MODIFICATION, 'Location', 'Chemical_Pattern', 'Linkage', 'Linkage_Location', 'Smiles']].nunique().gt(1).any():\n",
    "        # Check that all other fields (except inhibition + modifications) are the same\n",
    "        compare = group[columns_to_compare].reset_index(drop=True)\n",
    "        if compare.nunique().eq(1).all():\n",
    "            result_temp.append(group)\n",
    "\n",
    "if result_temp:\n",
    "    final_df = pd.concat(result_temp)\n",
    "\n",
    "    # Get the row indices of matched rows\n",
    "    mod_scan_indices = final_df.index\n",
    "\n",
    "    # Add new column to original dataframe\n",
    "    df_filled['mod_scan'] = 0\n",
    "    df_filled.loc[mod_scan_indices, 'mod_scan'] = 1\n",
    "\n",
    "    print(df_filled[df_filled['mod_scan'] == 1])  # Optional: preview marked rows\n",
    "else:\n",
    "    df_filled['mod_scan'] = 0\n",
    "    print(\"No matching ASO experiment groups with only modification-related differences.\")\n"
   ],
   "id": "632d57998fc1949f",
   "outputs": [
    {
     "name": "stdout",
     "output_type": "stream",
     "text": [
      "       index    ISIS Target_gene Cell_line  Density(cells/well) Transfection  \\\n",
      "2          2  540806       K-RAS      A431               5000.0  free uptake   \n",
      "13        13  651966       K-RAS      A431               5000.0  free uptake   \n",
      "15        15  651987       K-RAS      A431               5000.0  free uptake   \n",
      "30        30  695867       K-RAS      A431               5000.0  free uptake   \n",
      "31        31  695912       K-RAS      A431               5000.0  free uptake   \n",
      "...      ...     ...         ...       ...                  ...          ...   \n",
      "36867  36867  972044       APOL1      A431              11000.0  free uptake   \n",
      "36869  36869  972096       APOL1      A431              11000.0  free uptake   \n",
      "36872  36872  969448       APOL1      A431              11000.0  free uptake   \n",
      "36873  36873  971969       APOL1      A431              11000.0  free uptake   \n",
      "36875  36875  972189       APOL1      A431              11000.0  free uptake   \n",
      "\n",
      "       ASO_volume(nM)  Treatment_Period(hours) Primer_probe_set  \\\n",
      "2              2000.0                       24      RTS3496_MGB   \n",
      "13             2000.0                       24      RTS3496_MGB   \n",
      "15             2000.0                       24      RTS3496_MGB   \n",
      "30             2000.0                       24      RTS3496_MGB   \n",
      "31             2000.0                       24      RTS3496_MGB   \n",
      "...               ...                      ...              ...   \n",
      "36867            40.0                       16         RTS35962   \n",
      "36869            40.0                       16         RTS35962   \n",
      "36872            40.0                       16         RTS35962   \n",
      "36873            40.0                       16         RTS35962   \n",
      "36875            40.0                       16         RTS35962   \n",
      "\n",
      "               Sequence  ...  \\\n",
      "2      GCATGAAGATTTCTGG  ...   \n",
      "13     CATTTATGTGACTAGA  ...   \n",
      "15     GCTATTAGGAGTCTTT  ...   \n",
      "30     TCCATTTATGTGACTA  ...   \n",
      "31     GACTAATAGCAGTGGA  ...   \n",
      "...                 ...  ...   \n",
      "36867  TCCGTCAATATATTCT  ...   \n",
      "36869  GTGTTATATTTGATCC  ...   \n",
      "36872  TCCGTCAATATATTCT  ...   \n",
      "36873  GCTAATTTTCTGACTG  ...   \n",
      "36875  GTGTTATATTTGATCC  ...   \n",
      "\n",
      "                                                  Smiles Inhibition(%)  \\\n",
      "2      Cc1cn([C@H]2C[C@H](OP(=O)([S-])[O]C[C@H]3O[C@@...          62.0   \n",
      "13     Cc1cn([C@H]2C[C@H](OP(=O)([S-])[O]C[C@]34O[C@@...          56.0   \n",
      "15     Cc1cn([C@H]2C[C@H](OP(=O)([S-])[O]C[C@H]3O[C@@...          76.0   \n",
      "30     Cc1cn([C@H]2C[C@H](OP(=O)([S-])[O]C[C@H]3O[C@@...          68.0   \n",
      "31     Cc1cn([C@H]2C[C@H](OP(=O)([S-])[O]C[C@H]3O[C@@...          62.0   \n",
      "...                                                  ...           ...   \n",
      "36867  COCCO[C@@H]1[C@H](OP(=O)([S-])[O]C[C@]23O[C@@H...          50.0   \n",
      "36869  COCCO[C@@H]1[C@H](OP(=O)([S-])[O]C[C@H]2O[C@@H...          50.0   \n",
      "36872  COCCO[C@@H]1[C@H](OP(=O)([S-])[O]C[C@H]2O[C@@H...          50.0   \n",
      "36873  COCCO[C@@H]1[C@H](OP(=O)([S-])[O]C[C@]23O[C@@H...          50.0   \n",
      "36875  COCCO[C@@H]1[C@H](OP(=O)([S-])[O]C[C@H]2O[C@@H...          50.0   \n",
      "\n",
      "      seq_length Canonical Gene Name Cell line organism Transcript  \\\n",
      "2             16                KRAS              human              \n",
      "13            16                KRAS              human              \n",
      "15            16                KRAS              human              \n",
      "30            16                KRAS              human              \n",
      "31            16                KRAS              human              \n",
      "...          ...                 ...                ...        ...   \n",
      "36867         16               APOL1              human              \n",
      "36869         16               APOL1              human              \n",
      "36872         16               APOL1              human              \n",
      "36873         16               APOL1              human              \n",
      "36875         16               APOL1              human              \n",
      "\n",
      "       Location_in_sequence  Location_div_by_length true_length_of_seq  \\\n",
      "2                   43363.0                0.949049                 16   \n",
      "13                  41510.0                0.908494                 16   \n",
      "15                  41829.0                0.915476                 16   \n",
      "30                  41512.0                0.908538                 16   \n",
      "31                  41694.0                0.912521                 16   \n",
      "...                     ...                     ...                ...   \n",
      "36867               13850.0                0.957815                 16   \n",
      "36869                4957.0                0.342808                 16   \n",
      "36872               13850.0                0.957815                 16   \n",
      "36873               14333.0                0.991217                 16   \n",
      "36875                4957.0                0.342808                 16   \n",
      "\n",
      "      mod_scan  \n",
      "2            1  \n",
      "13           1  \n",
      "15           1  \n",
      "30           1  \n",
      "31           1  \n",
      "...        ...  \n",
      "36867        1  \n",
      "36869        1  \n",
      "36872        1  \n",
      "36873        1  \n",
      "36875        1  \n",
      "\n",
      "[10950 rows x 25 columns]\n"
     ]
    }
   ],
   "execution_count": 11
  },
  {
   "metadata": {
    "ExecuteTime": {
     "end_time": "2025-06-25T20:42:05.239409Z",
     "start_time": "2025-06-25T20:42:04.395826Z"
    }
   },
   "cell_type": "code",
   "source": "df_filled.to_csv('data_asoptimizer_updated.csv', index=False)",
   "id": "e458de256146cfba",
   "outputs": [],
   "execution_count": 13
  }
 ],
 "metadata": {
  "kernelspec": {
   "display_name": "Python 3",
   "language": "python",
   "name": "python3"
  },
  "language_info": {
   "codemirror_mode": {
    "name": "ipython",
    "version": 2
   },
   "file_extension": ".py",
   "mimetype": "text/x-python",
   "name": "python",
   "nbconvert_exporter": "python",
   "pygments_lexer": "ipython2",
   "version": "2.7.6"
  }
 },
 "nbformat": 4,
 "nbformat_minor": 5
}
