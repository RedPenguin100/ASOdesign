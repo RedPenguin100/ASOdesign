{
 "cells": [
  {
   "cell_type": "code",
   "id": "initial_id",
   "metadata": {
    "collapsed": true,
    "ExecuteTime": {
     "end_time": "2025-04-08T08:07:09.687664Z",
     "start_time": "2025-04-08T08:07:07.863841Z"
    }
   },
   "source": [
    "import numpy as np\n",
    "import pandas\n",
    "\n",
    "from consts import DATA_PATH, HUMAN_DB, EXPERIMENT_RESULTS\n",
    "from asodesigner.util import get_antisense\n",
    "from util import get_antisense, get_gc_content\n",
    "\n",
    "SEQUENCE = 'Sequence'\n",
    "INHIBITION = 'Inhibition(%)'"
   ],
   "outputs": [],
   "execution_count": 1
  },
  {
   "metadata": {
    "ExecuteTime": {
     "end_time": "2025-04-08T08:16:52.926334Z",
     "start_time": "2025-04-08T08:15:54.271230Z"
    }
   },
   "cell_type": "code",
   "source": [
    "all_data = pandas.read_csv(DATA_PATH / 'data_from_article_fixed.csv')\n",
    "# all_data = all_data[all_data['Cell line organism'] == 'human']"
   ],
   "id": "e7476383712c015f",
   "outputs": [],
   "execution_count": 3
  },
  {
   "metadata": {
    "ExecuteTime": {
     "end_time": "2025-04-08T08:29:28.350229Z",
     "start_time": "2025-04-08T08:29:00.602779Z"
    }
   },
   "cell_type": "code",
   "source": "all_data['gc_content'] = [get_gc_content(seq) for seq in all_data[SEQUENCE]]",
   "id": "487a08973b8f0765",
   "outputs": [],
   "execution_count": 4
  },
  {
   "metadata": {
    "ExecuteTime": {
     "end_time": "2025-04-08T08:53:06.884385Z",
     "start_time": "2025-04-08T08:53:04.984590Z"
    }
   },
   "cell_type": "code",
   "source": [
    "from scipy.stats import pearsonr, spearmanr\n",
    "\n",
    "def print_correlations(df, name1, name2, p_value_threshold=None):\n",
    "    if p_value_threshold is None:\n",
    "        p_value_threshold = 1\n",
    "    corr, p_value = pearsonr(df[name1], df[name2])\n",
    "    if p_value < p_value_threshold:\n",
    "        print(f\"Feature: {name1:<35}, Pearson: {corr:<5.2f}, p-value: {p_value:<10.2} Target: {name2:<35}\")\n",
    "    corr, p_value = spearmanr(df[name1], df[name2])\n",
    "    if p_value < p_value_threshold:\n",
    "        print(f\"Feature: {name1:<35}, Spearman: {corr:<5.2f}, p-value: {p_value:<10.2} Target: {name2:<35}\")\n"
   ],
   "id": "35175ef407e7a043",
   "outputs": [],
   "execution_count": 6
  },
  {
   "metadata": {
    "ExecuteTime": {
     "end_time": "2025-04-08T08:53:10.023842Z",
     "start_time": "2025-04-08T08:53:09.810783Z"
    }
   },
   "cell_type": "code",
   "source": "all_data_no_nan = all_data.dropna(subset=[INHIBITION]).copy()",
   "id": "bae16c55212d4eb",
   "outputs": [],
   "execution_count": 7
  },
  {
   "metadata": {
    "ExecuteTime": {
     "end_time": "2025-04-08T08:53:11.071722Z",
     "start_time": "2025-04-08T08:53:11.050548Z"
    }
   },
   "cell_type": "code",
   "source": "all_data_no_nan.loc[:, 'log_inhibition'] = -np.log(-all_data_no_nan[INHIBITION] + 100.001)",
   "id": "2fa16f3b8b80e403",
   "outputs": [],
   "execution_count": 8
  },
  {
   "metadata": {
    "ExecuteTime": {
     "end_time": "2025-04-08T08:53:15.881465Z",
     "start_time": "2025-04-08T08:53:12.525737Z"
    }
   },
   "cell_type": "code",
   "source": [
    "import ViennaRNA as RNA\n",
    "all_data_no_nan.loc[:, 'internal_fold'] = [RNA.fold(antisense)[1] for antisense in all_data_no_nan[SEQUENCE]]\n",
    "\n",
    "print_correlations(all_data_no_nan, 'internal_fold', INHIBITION)\n",
    "print_correlations(all_data_no_nan, 'internal_fold', 'log_inhibition')"
   ],
   "id": "927c4701d045a3f6",
   "outputs": [
    {
     "name": "stdout",
     "output_type": "stream",
     "text": [
      "Feature: internal_fold                      , Pearson: 0.01 , p-value: 0.038      Target: Inhibition(%)                      \n",
      "Feature: internal_fold                      , Spearman: 0.00 , p-value: 0.7        Target: Inhibition(%)                      \n",
      "Feature: internal_fold                      , Pearson: 0.03 , p-value: 1.7e-06    Target: log_inhibition                     \n",
      "Feature: internal_fold                      , Spearman: 0.00 , p-value: 0.7        Target: log_inhibition                     \n"
     ]
    }
   ],
   "execution_count": 9
  },
  {
   "metadata": {
    "jupyter": {
     "is_executing": true
    },
    "ExecuteTime": {
     "start_time": "2025-04-08T09:23:09.242215Z"
    }
   },
   "cell_type": "code",
   "source": [
    "from read_human_genome import get_locus_to_data_dict\n",
    "gene_to_data = get_locus_to_data_dict(include_introns=True)"
   ],
   "id": "172ca9c520918fd0",
   "outputs": [],
   "execution_count": null
  },
  {
   "metadata": {},
   "cell_type": "code",
   "source": [
    "from consts import HUMAN_DB_BASIC_INTRONS\n",
    "import gffutils\n",
    "\n",
    "db = gffutils.FeatureDB(str(HUMAN_DB_BASIC_INTRONS))\n",
    "gene = db.features_of_type('gene')"
   ],
   "id": "3668d8c1dd643e28",
   "outputs": [],
   "execution_count": null
  },
  {
   "metadata": {},
   "cell_type": "code",
   "source": [
    "CANONICAL_GENE = 'Canonical Gene Name'\n",
    "CELL_LINE_ORGANISM = 'Cell line organism'\n",
    "\n",
    "all_data_no_nan_human = all_data_no_nan[all_data_no_nan[CELL_LINE_ORGANISM] == 'human']\n",
    "genes = all_data_no_nan[CANONICAL_GENE].copy()\n",
    "genes_u = list(set(genes))\n",
    "genes_u.remove('HBV')\n",
    "genes_u.remove('negative_control')"
   ],
   "id": "32b7a2a61838f2d1",
   "outputs": [],
   "execution_count": null
  },
  {
   "metadata": {},
   "cell_type": "code",
   "source": [
    "for gene_name in genes_u:\n",
    "    if gene_name not in gene_to_data:\n",
    "        print(f\"gene : {gene_name} not found\")"
   ],
   "id": "80625f8551213237",
   "outputs": [],
   "execution_count": null
  },
  {
   "metadata": {},
   "cell_type": "code",
   "source": [
    "all_data_human_gene = all_data_no_nan_human[all_data_no_nan_human[CANONICAL_GENE].isin(genes_u)].copy()\n",
    "PREMRNA_FOUND = 'pre_mrna_found'\n",
    "SENSE_START = 'sense_start'\n",
    "SENSE_LENGTH = 'sense_length'\n",
    "found = 0\n",
    "not_found = 0\n",
    "all_data_human_gene[SENSE_START] = np.zeros_like(all_data_human_gene[CANONICAL_GENE], dtype=int)\n",
    "all_data_human_gene[SENSE_LENGTH] = np.zeros_like(all_data_human_gene[CANONICAL_GENE], dtype=int)\n",
    "for index, row in all_data_human_gene.iterrows():\n",
    "     gene_name = row[CANONICAL_GENE]\n",
    "     pre_mrna = gene_to_data[gene_name].full_mrna\n",
    "     antisense = row[SEQUENCE]\n",
    "     sense = get_antisense(antisense)\n",
    "     idx = pre_mrna.find(sense)\n",
    "     all_data_human_gene.loc[index, SENSE_START] = idx\n",
    "     all_data_human_gene.loc[index, SENSE_LENGTH] = len(antisense)\n"
   ],
   "id": "ff3753dda27d2a9b",
   "outputs": [],
   "execution_count": null
  },
  {
   "metadata": {},
   "cell_type": "code",
   "source": [
    "all_data_human_gene_premrna = all_data_human_gene[all_data_human_gene[SENSE_START] != -1]\n",
    "len(all_data_human_gene_premrna)\n"
   ],
   "id": "204275300de82357",
   "outputs": [],
   "execution_count": null
  },
  {
   "metadata": {},
   "cell_type": "code",
   "source": [
    "from fold import get_trigger_mfe_scores_by_risearch, get_mfe_scores, dump_target_file\n",
    "import random\n",
    "\n",
    "# minimal_scores = [200,400,600,800,1000,1200]\n",
    "minimal_scores = [800]\n",
    "on_target_feature_titles = ['on_target_energy_fits', 'on_target_energy_sum', 'on_target_energy_max']\n",
    "\n",
    "all_data_human_gene_premrna = all_data_human_gene_premrna.copy() # so Jupyter doesn't shout at me\n",
    "\n",
    "# genes_u.remove('HIF1A') # the same sequence for all ASOs, only differing chemical modifications\n",
    "for score in minimal_scores:\n",
    "    for feature_title in on_target_feature_titles:\n",
    "        all_data_human_gene_premrna.loc[:, feature_title + str(score)] = np.zeros_like(all_data_human_gene_premrna[SEQUENCE], dtype=np.float64)\n",
    "\n",
    "    for gene in genes_u:\n",
    "        target = gene_to_data[gene].full_mrna\n",
    "        name_to_sequence = {'target_seq' : target}\n",
    "        results = []\n",
    "        parsing_type = '2'\n",
    "\n",
    "        hash = random.getrandbits(64)\n",
    "        target_cache_filename = f'target-cache-{hash}.fa'\n",
    "        target_cache_path = dump_target_file(target_cache_filename, name_to_sequence)\n",
    "\n",
    "        gene_rows = all_data_human_gene_premrna[all_data_human_gene_premrna[CANONICAL_GENE] == gene]\n",
    "\n",
    "        for index, row in gene_rows.iterrows():\n",
    "            antisense = row[SEQUENCE]\n",
    "            sense = get_antisense(antisense)\n",
    "            l = row[SENSE_LENGTH]\n",
    "            # TODO: din, add DNA-RNA, PSDNA-RNA\n",
    "            tmp_results = get_trigger_mfe_scores_by_risearch(sense, name_to_sequence, minimum_score=score, neighborhood=l,\n",
    "                                                     parsing_type=parsing_type, target_file_cache=target_cache_path)\n",
    "            scores = get_mfe_scores(tmp_results, parsing_type)\n",
    "            if len(scores) == 0:\n",
    "                all_data_human_gene_premrna.loc[index, 'on_target_energy_fits' + str(score)] = 0.\n",
    "                all_data_human_gene_premrna.loc[index, 'on_target_energy_sum' + str(score)] = 0.\n",
    "                all_data_human_gene_premrna.loc[index, 'on_target_energy_max' + str(score)] = 0.\n",
    "            else:\n",
    "                target_scores = scores[0]\n",
    "                min_score = 0 if len(target_scores) == 0 else min(target_scores)\n",
    "                all_data_human_gene_premrna.loc[index, 'on_target_energy_fits' + str(score)] = len(target_scores)\n",
    "                all_data_human_gene_premrna.loc[index, 'on_target_energy_sum' + str(score)] = sum(target_scores)\n",
    "                all_data_human_gene_premrna.loc[index, 'on_target_energy_max' + str(score)] = min_score\n",
    "\n"
   ],
   "id": "616d2f4befb35b63",
   "outputs": [],
   "execution_count": null
  },
  {
   "metadata": {},
   "cell_type": "code",
   "source": [
    "on_target_energy_features = ['on_target_energy_fits' + str(score) for score in minimal_scores] + ['on_target_energy_sum' + str(score) for score in minimal_scores] + ['on_target_energy_max' + str(score) for score in minimal_scores]\n",
    "on_target_energy_features"
   ],
   "id": "97e411746053f592",
   "outputs": [],
   "execution_count": null
  },
  {
   "metadata": {},
   "cell_type": "code",
   "source": [
    "for score in minimal_scores:\n",
    "    for on_target_name in on_target_feature_titles:\n",
    "        all_data_human_gene_premrna.loc[:, on_target_name + \"_normalized\" + str(score)] = all_data_human_gene_premrna['on_target_energy_fits' + str(score)] / all_data_human_gene_premrna[SENSE_LENGTH]\n",
    "        on_target_energy_features.append(on_target_name + \"_normalized\" + str(score))"
   ],
   "id": "b10abcaf5e0c2054",
   "outputs": [],
   "execution_count": null
  },
  {
   "metadata": {},
   "cell_type": "code",
   "source": [
    "test = all_data_human_gene_premrna[all_data_human_gene_premrna[CANONICAL_GENE] == 'SNCA']\n",
    "test = test.sort_values(by=['on_target_energy_max800'], ascending=[False])\n",
    "print(test.tail(5))\n",
    "plt.scatter(test['on_target_energy_max800'], test['log_inhibition'], alpha=0.05)\n",
    "plt.show()"
   ],
   "id": "9539b29b38b1bbdf",
   "outputs": [],
   "execution_count": null
  },
  {
   "metadata": {},
   "cell_type": "code",
   "source": [
    "from fold import calculate_energies, get_weighted_energy\n",
    "\n",
    "all_data_human_gene_premrna_no_nan = all_data_human_gene_premrna.copy()\n",
    "\n",
    "# fold_variants = [(40, 15), (50, 15), (60, 15), (40, 20), (50, 20), (40, 30), (60, 30)]\n",
    "fold_variants = [(40, 15), (60, 15), (80, 15), (100, 15), (60, 25), (80, 25), (100, 25), (80, 40), (100, 40)]\n",
    "for (window_size, step_size) in fold_variants:\n",
    "    for gene in genes_u:\n",
    "        on_target_fold = 'on_target_fold_openness' + str(window_size) + '_' + str(step_size)\n",
    "        on_target_fold_normalized = 'on_target_fold_openness_normalized' + str(window_size) + '_' + str(step_size)\n",
    "        # on_target_fold = 'on_target_fold_openness'\n",
    "        # on_target_fold_normalized = 'on_target_fold_openness_normalized'\n",
    "\n",
    "\n",
    "        all_data_human_gene_premrna_no_nan[on_target_fold] = np.zeros_like(all_data_human_gene_premrna_no_nan[SEQUENCE], dtype=np.float64)\n",
    "        all_data_human_gene_premrna_no_nan[on_target_fold_normalized] = np.zeros_like(all_data_human_gene_premrna_no_nan[SEQUENCE], dtype=np.float64)\n",
    "\n",
    "\n",
    "        target = gene_to_data[gene].full_mrna\n",
    "        gene_rows = all_data_human_gene_premrna_no_nan[all_data_human_gene_premrna_no_nan[CANONICAL_GENE] == gene]\n",
    "        energies = calculate_energies(str(target), step_size, window_size)\n",
    "\n",
    "        for index, row in gene_rows.iterrows():\n",
    "            antisense = row[SEQUENCE]\n",
    "            sense = get_antisense(antisense)\n",
    "            l = row[SENSE_LENGTH]\n",
    "            sense_start = row[SENSE_START]\n",
    "            mean_fold = get_weighted_energy(sense_start, l, step_size, energies, window_size)\n",
    "\n",
    "            all_data_human_gene_premrna_no_nan.loc[index, on_target_fold] = mean_fold\n",
    "            all_data_human_gene_premrna_no_nan.loc[index, on_target_fold_normalized] = mean_fold / l\n"
   ],
   "id": "debcba8576949852",
   "outputs": [],
   "execution_count": null
  },
  {
   "metadata": {},
   "cell_type": "code",
   "source": [
    "fold_feature_names = ['on_target_fold_openness', 'on_target_fold_openness_normalized']\n",
    "fold_features = []\n",
    "for (window_size, step_size) in fold_variants:\n",
    "    for feature_name in fold_feature_names:\n",
    "        fold_features.append(feature_name + str(window_size) + \"_\" + str(step_size))"
   ],
   "id": "86268291af9b29e0",
   "outputs": [],
   "execution_count": null
  },
  {
   "metadata": {},
   "cell_type": "code",
   "source": "print(all_data_human_gene_premrna_no_nan.columns)",
   "id": "7c31ea71f94de078",
   "outputs": [],
   "execution_count": null
  },
  {
   "metadata": {},
   "cell_type": "code",
   "source": [
    "test = all_data_human_gene_premrna_no_nan\n",
    "# test = all_data_human_gene_premrna_no_nan[all_data_human_gene_premrna_no_nan[INHIBITION] > 0]\n",
    "\n",
    "\n",
    "for feature_name in fold_features:\n",
    "    print_correlations(test , feature_name, INHIBITION, p_value_threshold=0.05)\n",
    "    print_correlations(test , feature_name, 'log_inhibition', p_value_threshold=0.05)\n",
    "\n",
    "feature = fold_features[0]\n",
    "plt.scatter(test[feature], test[INHIBITION], alpha=0.05)\n",
    "plt.show()\n"
   ],
   "id": "b60ca6d6e03a00b1",
   "outputs": [],
   "execution_count": null
  },
  {
   "metadata": {},
   "cell_type": "code",
   "source": [
    "all_data_human_gene_premrna_no_nan.loc[:, 'energy_and_fold'] = all_data_human_gene_premrna_no_nan['on_target_energy_max800'] * all_data_human_gene_premrna_no_nan['on_target_fold_openness_normalized40_15']\n",
    "\n",
    "print_correlations(all_data_human_gene_premrna_no_nan, 'energy_and_fold', INHIBITION)\n",
    "print_correlations(all_data_human_gene_premrna_no_nan, 'energy_and_fold', 'log_inhibition')"
   ],
   "id": "6a4d806c9d8cadd1",
   "outputs": [],
   "execution_count": null
  },
  {
   "metadata": {},
   "cell_type": "code",
   "source": [
    "import primer3\n",
    "\n",
    "all_data_human_gene_premrna_no_nan.loc[:, 'self_energy'] = [float(primer3.calc_homodimer(antisense).dg) for antisense in all_data_human_gene_premrna_no_nan[SEQUENCE]]\n",
    "all_data_human_gene_premrna_no_nan.loc[:, 'self_energy'] = all_data_human_gene_premrna_no_nan.loc[:, 'self_energy'].astype(float)\n",
    "\n",
    "print_correlations(all_data_human_gene_premrna_no_nan, 'self_energy', INHIBITION)\n",
    "print_correlations(all_data_human_gene_premrna_no_nan, 'self_energy', 'log_inhibition')"
   ],
   "id": "85994a253c23a952",
   "outputs": [],
   "execution_count": null
  },
  {
   "metadata": {},
   "cell_type": "code",
   "source": [
    "all_data_human_gene_premrna_no_nan.loc[:, 'internal_fold'] = [RNA.fold(antisense)[1] for antisense in all_data_human_gene_premrna_no_nan[SEQUENCE]]\n",
    "\n",
    "print_correlations(all_data_human_gene_premrna_no_nan, 'internal_fold', INHIBITION)\n",
    "print_correlations(all_data_human_gene_premrna_no_nan, 'internal_fold', 'log_inhibition')"
   ],
   "id": "a0ea8eb3606d0d1e",
   "outputs": [],
   "execution_count": null
  },
  {
   "metadata": {},
   "cell_type": "code",
   "source": [
    "all_data_human_gene_premrna_no_nan.loc[:, 'gc_content_5_prime_5'] = [get_gc_content(sequence[:5]) for sequence in all_data_human_gene_premrna_no_nan[SEQUENCE]]\n",
    "all_data_human_gene_premrna_no_nan.loc[:, 'gc_content_3_prime_5'] = [get_gc_content(sequence[-5:]) for sequence in all_data_human_gene_premrna_no_nan[SEQUENCE]]\n",
    "all_data_human_gene_premrna_no_nan.loc[:, 'first_nucleotide'] = [sequence[0] for sequence in all_data_human_gene_premrna_no_nan[SEQUENCE]]\n",
    "all_data_human_gene_premrna_no_nan.loc[:, 'second_nucleotide'] = [sequence[2] for sequence in all_data_human_gene_premrna_no_nan[SEQUENCE]]\n",
    "\n",
    "print_correlations(all_data_human_gene_premrna_no_nan, 'gc_content_5_prime_5', INHIBITION)\n",
    "print_correlations(all_data_human_gene_premrna_no_nan, 'gc_content_5_prime_5', 'log_inhibition')\n",
    "print_correlations(all_data_human_gene_premrna_no_nan, 'gc_content_3_prime_5', 'log_inhibition')\n",
    "print_correlations(all_data_human_gene_premrna_no_nan, 'gc_content_3_prime_5', 'log_inhibition')"
   ],
   "id": "e15457978aab3485",
   "outputs": [],
   "execution_count": null
  },
  {
   "metadata": {},
   "cell_type": "code",
   "source": [
    "import primer3\n",
    "\n",
    "all_data_human_gene_premrna_no_nan.loc[:, 'self_energy'] = [primer3.calc_homodimer(antisense).dg for antisense in all_data_human_gene_premrna_no_nan[SEQUENCE]]\n",
    "all_data_human_gene_premrna_no_nan.loc[:, 'self_energy_log'] = -np.log(2500-all_data_human_gene_premrna_no_nan.loc[:, 'self_energy'])\n",
    "\n",
    "print_correlations(all_data_human_gene_premrna_no_nan, 'self_energy', INHIBITION)\n",
    "print_correlations(all_data_human_gene_premrna_no_nan, 'self_energy', 'log_inhibition')\n",
    "print_correlations(all_data_human_gene_premrna_no_nan, 'self_energy_log', INHIBITION)\n",
    "print_correlations(all_data_human_gene_premrna_no_nan, 'self_energy_log', 'log_inhibition')"
   ],
   "id": "648c5e86e0e0ffc",
   "outputs": [],
   "execution_count": null
  },
  {
   "metadata": {},
   "cell_type": "code",
   "source": [
    "import matplotlib.pyplot as plt\n",
    "plt.scatter(all_data_human_gene_premrna_no_nan['self_energy_log'], all_data_human_gene_premrna_no_nan['log_inhibition'], alpha=0.1)\n",
    "plt.show()"
   ],
   "id": "e5d10cef04619d72",
   "outputs": [],
   "execution_count": null
  },
  {
   "metadata": {},
   "cell_type": "code",
   "source": [
    "VOLUME = 'ASO_volume(nM)'\n",
    "TREATMENT_PERIOD = 'Treatment_Period(hours)'\n",
    "CELL_LINE = 'Cell_line'\n",
    "TRANSFECTION = 'Transfection'\n",
    "DENSITY = 'Density(cells/well)'\n",
    "\n",
    "print_correlations(all_data_human_gene_premrna_no_nan, TREATMENT_PERIOD, INHIBITION)\n",
    "print_correlations(all_data_human_gene_premrna_no_nan, TREATMENT_PERIOD, 'log_inhibition')\n",
    "plt.scatter(all_data_human_gene_premrna_no_nan[TREATMENT_PERIOD], all_data_human_gene_premrna_no_nan[INHIBITION], alpha=0.05)\n",
    "plt.show()"
   ],
   "id": "191d96dd326c8dd1",
   "outputs": [],
   "execution_count": null
  },
  {
   "metadata": {},
   "cell_type": "code",
   "source": [
    "tmp = all_data_human_gene_premrna_no_nan.copy()\n",
    "tmp = tmp.dropna(subset=[DENSITY]).copy()\n",
    "tmp.loc[:, 'log_density'] = np.log(tmp[DENSITY])\n",
    "\n",
    "print_correlations(tmp, DENSITY, INHIBITION)\n",
    "print_correlations(tmp, DENSITY, 'log_inhibition')\n",
    "print_correlations(tmp, 'log_density', INHIBITION)\n",
    "print_correlations(tmp, 'log_density', 'log_inhibition')\n",
    "plt.scatter(tmp[DENSITY], tmp[INHIBITION], alpha=0.05)\n",
    "plt.show()"
   ],
   "id": "19239ad556b46874",
   "outputs": [],
   "execution_count": null
  },
  {
   "metadata": {},
   "cell_type": "code",
   "source": [
    "\n",
    "\n",
    "\n",
    "all_data_human_gene_premrna_no_nan.loc[:, 'mrna_length'] = [len(gene_to_data[gene].full_mrna) for gene in all_data_human_gene_premrna_no_nan[CANONICAL_GENE]]\n",
    "all_data_human_gene_premrna_no_nan.loc[:, 'normalized_start'] = all_data_human_gene_premrna_no_nan[SENSE_START] / all_data_human_gene_premrna_no_nan['mrna_length']\n",
    "\n",
    "print_correlations(all_data_human_gene_premrna_no_nan, 'normalized_start', INHIBITION)\n",
    "print_correlations(all_data_human_gene_premrna_no_nan, 'normalized_start', 'log_inhibition')\n",
    "\n",
    "\n",
    "plt.scatter(all_data_human_gene_premrna_no_nan['normalized_start'], all_data_human_gene_premrna_no_nan['log_inhibition'], alpha=0.05)\n",
    "plt.show()"
   ],
   "id": "4ff456402d070799",
   "outputs": [],
   "execution_count": null
  },
  {
   "metadata": {},
   "cell_type": "code",
   "source": [
    "from scipy import stats\n",
    "from sklearn.linear_model import LinearRegression\n",
    "from sklearn.ensemble import RandomForestRegressor\n",
    "from sklearn.model_selection  import train_test_split, cross_val_score\n",
    "from sklearn.metrics import make_scorer\n",
    "import pandas as pd\n",
    "\n",
    "\n",
    "filtered = all_data_human_gene_premrna_no_nan\n",
    "filtered = filtered[filtered['Cell line organism'] == 'human']\n",
    "print(len(filtered))\n",
    "filtered = filtered.dropna(subset=[INHIBITION]).copy()\n",
    "filtered = filtered.dropna(subset=[DENSITY]).copy()\n",
    "filtered = pd.get_dummies(filtered, columns=[CELL_LINE]).copy()\n",
    "filtered = pd.get_dummies(filtered, columns=[TRANSFECTION]).copy()\n",
    "filtered = pd.get_dummies(filtered, columns=['first_nucleotide']).copy()\n",
    "filtered = pd.get_dummies(filtered, columns=['second_nucleotide']).copy()\n",
    "filtered = pd.get_dummies(filtered, columns=['Modification']).copy()\n",
    "\n",
    "\n",
    "filtered['log_volume'] = np.log(filtered[VOLUME])\n",
    "filtered.loc[:, 'log_inhibition'] = -np.log(-filtered[INHIBITION] + 101)\n",
    "filtered.loc[:, 'log_density'] = np.log(filtered[DENSITY])\n",
    "filtered.loc[:, SENSE_LENGTH] = [len(sequence) for sequence in filtered[SEQUENCE]]\n",
    "filtered.loc[:, SENSE_LENGTH] = filtered.loc[:, SENSE_LENGTH].astype(float)\n",
    "filtered['gc_deviation'] = np.abs(0.5 - filtered['gc_content'])\n",
    "filtered['self_energy_log_squared'] = filtered['self_energy_log'] ** 2\n",
    "# filtered['self_energy_squared'] = filtered['self_energy'] ** 2\n",
    "\n",
    "# features_base = ['log_volume', TREATMENT_PERIOD, VOLUME]\n",
    "features_base = ['gc_content', 'gc_deviation', SENSE_LENGTH, 'normalized_start', SENSE_START, 'self_energy_log', 'self_energy_log_squared', 'internal_fold', 'energy_and_fold', 'gc_content_3_prime_5', 'gc_content_5_prime_5']\n",
    "experiment_features = [VOLUME, 'log_volume', TREATMENT_PERIOD, 'log_density']\n",
    "cell_line_features = [feature for feature in filtered.columns if 'Cell_line' in feature and 'Cell_line' != feature]\n",
    "transfection_features = [feature for feature in filtered.columns if TRANSFECTION in feature and TRANSFECTION != feature]\n",
    "nucleotide_features = [feature for feature in filtered.columns if 'nucleotide' in feature and feature not in ['first_nucleotide', 'second_nucleotide']]\n",
    "modification_features = [feature for feature in filtered.columns if 'Modification' in feature and feature != 'Modification']\n",
    "\n",
    "features = features_base + experiment_features + cell_line_features + transfection_features + on_target_energy_features + fold_features + nucleotide_features + modification_features\n",
    "\n",
    "print(\"Used features: \", features)\n",
    "\n",
    "# filtered = all_data_human_gene_premrna_no_nan\n",
    "common_chemical_pattern = 'CCCddddddddddCCC'\n",
    "\n",
    "# filtered = filtered[filtered['Chemical_Pattern'] == common_chemical_pattern]\n",
    "# filtered = filtered[filtered[CANONICAL_GENE] == 'IRF5']\n",
    "# filtered = filtered[filtered[INHIBITION] > 0]\n",
    "# filtered = filtered[filtered[VOLUME] == 4000]\n",
    "# filtered = filtered[filtered[INHIBITION] > 70]\n",
    "\n",
    "# train, test = train_test_split(filtered, test_size=0.2, random_state=0, stratify=filtered[CANONICAL_GENE])\n",
    "train, test = train_test_split(filtered, test_size=0.2)\n",
    "\n",
    "print(\"Test: \", len(test))\n",
    "print(\"Train: \", len(train))\n",
    "X = train[features]\n",
    "y = train['log_inhibition']\n",
    "# x_tag = X\n",
    "# y_tag = y\n",
    "\n",
    "weight = VOLUME\n",
    "\n",
    "\n",
    "# Multiply the values via numpy without changing the column names\n",
    "multiplier = np.sqrt(X[weight]).values.reshape(-1, 1)\n",
    "X_tag = pd.DataFrame(\n",
    "    X[features].values * multiplier,\n",
    "    index=X.index,\n",
    "    columns=X[features].columns)\n",
    "\n",
    "\n",
    "y_tag  = y * np.sqrt(X[weight])\n",
    "\n",
    "# model = LinearRegression()\n",
    "# model.fit(X_tag, y_tag)\n",
    "# model = LinearRegression(n_jobs=-1)\n",
    "\n",
    "model = RandomForestRegressor(random_state=42, n_jobs=-1)\n",
    "\n",
    "# model.fit(X,y)\n",
    "model.fit(train[features], train['log_inhibition'])\n",
    "\n",
    "\n",
    "baseline_score = cross_val_score(model, X, y, cv=5).mean()\n",
    "print(\"Baseline score: \", baseline_score)\n",
    "\n",
    "def spearman_score(y_true, y_pred):\n",
    "    return stats.spearmanr(y_true, y_pred).correlation ** 2\n",
    "\n",
    "spearman_scorer = make_scorer(spearman_score, greater_is_better=True)\n",
    "spearman_score = cross_val_score(model, X, y, cv=5, scoring=spearman_scorer, n_jobs=-1).mean()\n",
    "print(\"Spearman score: \", spearman_score)\n",
    "\n",
    "# test = test[test[CANONICAL_GENE] == 'MAPT']\n",
    "# test = test[test['Chemical_Pattern'] == 'CCCddddddddddCCC']\n",
    "test = test[test[INHIBITION] > 90]\n",
    "\n",
    "test_features = test[features]\n",
    "#\n",
    "# multiplier = np.sqrt(test[weight]).values.reshape(-1, 1)\n",
    "# test_features = pd.DataFrame(\n",
    "#     test[features].values * multiplier,\n",
    "#     index=test.index,\n",
    "#     columns=test[features].columns)\n",
    "predicted = model.predict(test[features])\n",
    "\n",
    "\n",
    "# test_features = test[features]\n",
    "# predicted = model.predict(test_features)\n",
    "# y_test = test['log_inhibition'] / np.sqrt(test[weight])\n",
    "y_test = test['log_inhibition']\n",
    "\n",
    "\n",
    "corr, p_value = pearsonr(y_test, predicted)\n",
    "print(\"Pearson Corr: \", corr, \" p_value: \", p_value)\n",
    "corr, p_value = spearmanr(y_test, predicted)\n",
    "print(\"Spearman Corr: \", corr, \" p_value: \", p_value)\n",
    "plt.scatter(predicted, y_test, alpha=0.2)\n",
    "# plt.scatter(y_test, test['gc_content'])\n",
    "x = np.linspace(np.min(predicted), np.max(predicted), 100)\n",
    "plt.plot(x, x, color='red')\n",
    "\n",
    "plt.xlabel('Predicted Inhibition')\n",
    "plt.ylabel('Actual Inhibition')\n",
    "plt.title('Predicted vs Actual Inhibition')\n",
    "plt.show()\n"
   ],
   "id": "5684d18b0cbaad98",
   "outputs": [],
   "execution_count": null
  },
  {
   "metadata": {},
   "cell_type": "code",
   "source": [
    "from sklearn.model_selection import permutation_test_score\n",
    "\n",
    "score, permutation_scores, pvalue = permutation_test_score(model, X, y, cv=5, n_permutations=100, n_jobs=-1, scoring='r2')\n",
    "print(score, permutation_scores, pvalue)"
   ],
   "id": "d7d7b1a80ad203f8",
   "outputs": [],
   "execution_count": null
  },
  {
   "metadata": {},
   "cell_type": "code",
   "source": [
    "plt.scatter(filtered['self_energy_log_squared'], filtered['log_inhibition'], alpha=0.1)\n",
    "plt.show()"
   ],
   "id": "682802cc8e2ed3b",
   "outputs": [],
   "execution_count": null
  },
  {
   "metadata": {},
   "cell_type": "code",
   "source": [
    "import numpy as np\n",
    "import pandas as pd\n",
    "import statsmodels.api as sm\n",
    "from scipy.stats import rankdata\n",
    "\n",
    "def partial_corr(x, y, z):\n",
    "    # Regress x on z\n",
    "    X = sm.add_constant(z)\n",
    "    model_x = sm.OLS(x, X).fit()\n",
    "    res_x = model_x.resid\n",
    "\n",
    "    # Regress y on z\n",
    "    model_y = sm.OLS(y, X).fit()\n",
    "    res_y = model_y.resid\n",
    "\n",
    "    # Compute correlation between the residuals\n",
    "    return np.corrcoef(res_x, res_y)[0, 1]\n",
    "\n",
    "def partial_spearman_corr(x, y, z):\n",
    "    # Convert variables to ranks\n",
    "    rx = rankdata(x)\n",
    "    ry = rankdata(y)\n",
    "    rz = rankdata(z)\n",
    "\n",
    "    # Regress rx on rz\n",
    "    X = sm.add_constant(rz)\n",
    "    model_x = sm.OLS(rx, X).fit()\n",
    "    res_x = model_x.resid\n",
    "\n",
    "    # Regress ry on rz\n",
    "    model_y = sm.OLS(ry, X).fit()\n",
    "    res_y = model_y.resid\n",
    "\n",
    "    # Compute the Pearson correlation between the residuals\n",
    "    return np.corrcoef(res_x, res_y)[0, 1]\n",
    "\n",
    "\n",
    "for gene in genes_u:\n",
    "    t = filtered[filtered[CANONICAL_GENE] == gene]\n",
    "    print(\"Gene:\", gene)\n",
    "    try:\n",
    "        pcorr = partial_spearman_corr(t['self_energy'], t['log_inhibition'], t['gc_content'])\n",
    "        print(pcorr)\n",
    "    except:\n",
    "        pass"
   ],
   "id": "5c3ef6ca9d3286d",
   "outputs": [],
   "execution_count": null
  },
  {
   "metadata": {},
   "cell_type": "code",
   "source": [
    "from sklearn.ensemble import RandomForestRegressor\n",
    "\n",
    "rf = RandomForestRegressor(random_state=42)\n",
    "rf.fit(filtered[features], filtered['log_inhibition'])\n",
    "\n",
    "# Get the feature importances\n",
    "importances = rf.feature_importances_\n",
    "importance_df = pd.DataFrame({\n",
    "    'Feature': X.columns,\n",
    "    'Importance': importances\n",
    "}).sort_values(by='Importance', ascending=False)\n",
    "\n"
   ],
   "id": "efb116eceffac737",
   "outputs": [],
   "execution_count": null
  },
  {
   "metadata": {},
   "cell_type": "code",
   "source": [
    "for index, row in importance_df.iterrows():\n",
    "    print(f\"{row['Feature']:<40} {row['Importance']:.3}\")\n"
   ],
   "id": "bf6b3b05a6ff46b1",
   "outputs": [],
   "execution_count": null
  },
  {
   "metadata": {},
   "cell_type": "code",
   "source": [
    "print(\"The baseline is: \", baseline_score)\n",
    "print(\"The spearman baseline is: \", spearman_score)\n",
    "cv = 5\n",
    "scorer = spearman_scorer\n",
    "jobs = -1\n",
    "feature_importances = []\n",
    "\n",
    "for feature in features_base + on_target_energy_features + fold_features:\n",
    "    score_without_feature = cross_val_score(model, X.drop(columns=[feature]), y, cv=cv, scoring=scorer, n_jobs=jobs).mean()\n",
    "    # print(f\"Dropping {feature}: performance drop = {baseline_score - score_without_feature}\")\n",
    "    feature_importances.append((feature, float(baseline_score - score_without_feature)))\n",
    "\n",
    "print(\"Done base features\")\n",
    "\n",
    "score_without_on_target_energy = cross_val_score(model, X.drop(columns=on_target_energy_features), y, cv=cv, scoring=scorer, n_jobs=jobs).mean()\n",
    "performance_drop_all_on_target_energy = baseline_score - score_without_on_target_energy\n",
    "feature_importances.append((\"All on target energy\", float(performance_drop_all_on_target_energy)))\n",
    "\n",
    "score_without_fold_features = cross_val_score(model, X.drop(columns=fold_features), y, cv=cv, scoring=scorer, n_jobs=jobs).mean()\n",
    "performance_drop_fold_features = baseline_score - score_without_fold_features\n",
    "feature_importances.append((\"Fold features\", float(performance_drop_fold_features)))\n",
    "\n",
    "score_without_cell_line = cross_val_score(model, X.drop(columns=cell_line_features), y, cv=cv, scoring=scorer, n_jobs=jobs).mean()\n",
    "performance_drop_cell_line = baseline_score - score_without_cell_line\n",
    "feature_importances.append((\"Cell_line\", float(performance_drop_cell_line)))\n",
    "\n",
    "score_without_transfection = cross_val_score(model, X.drop(columns=transfection_features), y, cv=cv, scoring=scorer, n_jobs=jobs).mean()\n",
    "performance_drop_transfection = baseline_score - score_without_transfection\n",
    "feature_importances.append((\"Transfection\", float(performance_drop_transfection)))\n",
    "\n",
    "score_without_modification = cross_val_score(model, X.drop(columns=modification_features), y, cv=cv, scoring=scorer, n_jobs=jobs).mean()\n",
    "performance_drop_modification = baseline_score - score_without_modification\n",
    "feature_importances.append((\"Modification\", float(performance_drop_modification)))\n",
    "\n",
    "sorted_data = sorted(feature_importances, key=lambda x: x[1], reverse=True)\n",
    "for datum in sorted_data:\n",
    "    print(datum)\n"
   ],
   "id": "16784a84f32b5724",
   "outputs": [],
   "execution_count": null
  },
  {
   "metadata": {},
   "cell_type": "code",
   "source": [
    "print(filtered.columns)\n",
    "\n",
    "\n",
    "for gene in genes_u:\n",
    "    print(\"Gene:\", gene)\n",
    "\n",
    "    try:\n",
    "        predicted_gene = model.predict(filtered[filtered[CANONICAL_GENE] == gene][features])\n",
    "        y_gene = filtered[filtered[CANONICAL_GENE] == gene]['log_inhibition']\n",
    "        corr, p_value = pearsonr(y_gene, predicted_gene)\n",
    "        print(\"Pearson Corr: \", corr, \" p_value: \", p_value)\n",
    "        corr, p_value = spearmanr(y_gene, predicted_gene)\n",
    "        print(\"Spearman Corr: \", corr, \" p_value: \", p_value)\n",
    "    except:\n",
    "        pass\n",
    "# plt.scatter(predicted, y)\n",
    "# plt.show()"
   ],
   "id": "17cd4d57b12bcc05",
   "outputs": [],
   "execution_count": null
  },
  {
   "metadata": {},
   "cell_type": "code",
   "source": [
    "for gene in genes_u:\n",
    "    print(\"Gene: \", gene)\n",
    "    print(len(set(list(all_data_human_gene_premrna_no_nan[all_data_human_gene_premrna_no_nan[CANONICAL_GENE] == gene][SEQUENCE]))))"
   ],
   "id": "646f69982894297b",
   "outputs": [],
   "execution_count": null
  },
  {
   "metadata": {},
   "cell_type": "code",
   "source": [
    "subset = ['Sequence', 'Chemical_Pattern', 'Smiles', 'Linkage', 'Location', 'Modification', 'Primer_probe_set', 'ISIS', 'Cell_line', VOLUME, DENSITY]\n",
    "result = all_data_human_gene_premrna_no_nan.groupby(subset).filter(lambda x: len(x) > 20)\n",
    "# result = all_data_human_gene_premrna_no_nan\n",
    "result = result.sort_values(by=['Sequence'])\n",
    "result"
   ],
   "id": "b30d279fcc1f6752",
   "outputs": [],
   "execution_count": null
  }
 ],
 "metadata": {
  "kernelspec": {
   "display_name": "Python 3",
   "language": "python",
   "name": "python3"
  },
  "language_info": {
   "codemirror_mode": {
    "name": "ipython",
    "version": 2
   },
   "file_extension": ".py",
   "mimetype": "text/x-python",
   "name": "python",
   "nbconvert_exporter": "python",
   "pygments_lexer": "ipython2",
   "version": "2.7.6"
  }
 },
 "nbformat": 4,
 "nbformat_minor": 5
}
