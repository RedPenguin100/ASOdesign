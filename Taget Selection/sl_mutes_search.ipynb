{
 "cells": [
  {
   "cell_type": "markdown",
   "id": "2fffa0ff",
   "metadata": {},
   "source": [
    "## Mutation Search For SL in Lung Cancer"
   ]
  },
  {
   "cell_type": "markdown",
   "id": "aef54b43",
   "metadata": {},
   "source": [
    "installs and imports"
   ]
  },
  {
   "cell_type": "code",
   "execution_count": 2,
   "id": "99362303",
   "metadata": {},
   "outputs": [],
   "source": [
    "import pandas as pd"
   ]
  },
  {
   "cell_type": "markdown",
   "id": "382b9a95",
   "metadata": {},
   "source": [
    "### Data Loading"
   ]
  },
  {
   "metadata": {},
   "cell_type": "markdown",
   "source": [
    "All analyses were performed using summary-level data derived from TCGA and associated public cancer genomics repositories.\n",
    "Access to raw mutation-level data was conducted under institutional authorization, and therefore the original datasets are not publicly shareable - \"LUAD_mutations.csv\", \"LUSC_mutations.csv\""
   ],
   "id": "6e7d44fd72c46ffe"
  },
  {
   "cell_type": "code",
   "execution_count": 3,
   "id": "29a45dfd",
   "metadata": {},
   "outputs": [],
   "source": [
    "file_path = \"LUAD_mutations.csv\"\n",
    "columns_to_load = [\n",
    "    \"Hugo_Symbol\",\"mut_id\",\"Tumor_Sample_Barcode\",\n",
    "    \"Chromosome\", \"Start_Position\", \"End_Position\",\"Reference_Allele\", \"Tumor_Seq_Allele2\",\n",
    "    \"Variant_Classification\", \"Variant_Type\", \"HGVSp_Short\",\"case_id\",\"PolyPhen\"]\n",
    "luad_df = pd.read_csv(file_path, usecols=columns_to_load)"
   ]
  },
  {
   "cell_type": "code",
   "execution_count": 4,
   "id": "cb047937",
   "metadata": {},
   "outputs": [],
   "source": [
    "file_path = \"LUSC_mutations.csv\"\n",
    "columns_to_load = [\n",
    "    \"Hugo_Symbol\",\"mut_id\",\"Tumor_Sample_Barcode\",\n",
    "    \"Chromosome\", \"Start_Position\", \"End_Position\",\"Reference_Allele\", \"Tumor_Seq_Allele2\",\n",
    "    \"Variant_Classification\", \"Variant_Type\", \"HGVSp_Short\",\"case_id\", \"PolyPhen\"]\n",
    "lusc_df = pd.read_csv(file_path, usecols=columns_to_load)"
   ]
  },
  {
   "cell_type": "code",
   "execution_count": 5,
   "id": "ad807c1d",
   "metadata": {},
   "outputs": [],
   "source": [
    "file_name = 'known_cancer_drivers.csv' #Nico's Table\n",
    "known_cancer_drivers_df = pd.read_csv(file_name)"
   ]
  },
  {
   "cell_type": "code",
   "execution_count": 6,
   "id": "28d17d42",
   "metadata": {},
   "outputs": [],
   "source": [
    "tsg_df = pd.read_csv('tsg.txt', sep='\\t') #Table from bio info https://bioinfo.uth.edu/TSGene/download.cgi\n",
    "tsg_gene_symbols = tsg_df['GeneSymbol'].unique()\n",
    "tsg_gene_symbols_df = pd.DataFrame(tsg_gene_symbols, columns=['GeneSymbol'])\n",
    "tsg_gene_symbols_df.to_csv('tsg_gene_symbols.csv', index=False, encoding='utf-8') "
   ]
  },
  {
   "cell_type": "code",
   "execution_count": 7,
   "id": "f7a8d14d",
   "metadata": {},
   "outputs": [],
   "source": [
    "file_name = 'more_tsg_from_bioinfo.xlsx'\n",
    "tsg_genes_bioinfo = pd.read_excel(file_name)"
   ]
  },
  {
   "cell_type": "code",
   "execution_count": 8,
   "id": "9482fe94",
   "metadata": {},
   "outputs": [],
   "source": [
    "file_name = 'slidr_pan_lung.xlsx'\n",
    "slidr_df = pd.read_excel(file_name)"
   ]
  },
  {
   "cell_type": "code",
   "execution_count": 9,
   "id": "75cf9df6",
   "metadata": {},
   "outputs": [],
   "source": [
    "file_name = 'SynLeth_lung&null_df.csv'\n",
    "SynLeth_df = pd.read_csv(file_name)"
   ]
  },
  {
   "cell_type": "markdown",
   "id": "e8b2a402",
   "metadata": {},
   "source": [
    "### Filter #1 the top genes from synlethDB + SLIdr"
   ]
  },
  {
   "cell_type": "code",
   "execution_count": 10,
   "id": "2bff33b1",
   "metadata": {},
   "outputs": [],
   "source": [
    "driver_gene_slidr = slidr_df['Driver gene'].unique().tolist()"
   ]
  },
  {
   "cell_type": "code",
   "execution_count": 11,
   "id": "30932a58",
   "metadata": {},
   "outputs": [
    {
     "data": {
      "text/plain": [
       "655"
      ]
     },
     "execution_count": 11,
     "metadata": {},
     "output_type": "execute_result"
    }
   ],
   "source": [
    "filtered_SynLet_df = SynLeth_df[SynLeth_df['r.statistic_score'] > 0.5] #threshold for r score\n",
    "sorted_SynLet_df = filtered_SynLet_df.sort_values(by='r.statistic_score', ascending=False) #sorting the df by r score\n",
    "top_genes = pd.concat([sorted_SynLet_df['n1.name'], sorted_SynLet_df['n2.name']])\n",
    "unique_top_genes = top_genes.unique().tolist()\n",
    "len(unique_top_genes)"
   ]
  },
  {
   "cell_type": "code",
   "execution_count": 12,
   "id": "caef585e",
   "metadata": {},
   "outputs": [],
   "source": [
    "top_SL_genes = driver_gene_slidr + unique_top_genes\n",
    "top_SL_genes = list(set(top_SL_genes))"
   ]
  },
  {
   "cell_type": "code",
   "execution_count": 13,
   "id": "4cb7d1c0",
   "metadata": {},
   "outputs": [],
   "source": [
    "filt1_luad_df = luad_df[luad_df[\"Hugo_Symbol\"].isin(top_SL_genes)]"
   ]
  },
  {
   "cell_type": "code",
   "execution_count": 14,
   "id": "fc5121e5",
   "metadata": {},
   "outputs": [],
   "source": [
    "filt1_lusc_df = lusc_df[lusc_df[\"Hugo_Symbol\"].isin(top_SL_genes)]"
   ]
  },
  {
   "cell_type": "markdown",
   "id": "f15e4eec",
   "metadata": {},
   "source": [
    "### Filter #2 only TSG"
   ]
  },
  {
   "cell_type": "markdown",
   "id": "19455001",
   "metadata": {},
   "source": [
    "Firstly, we need to add the tsg column to manually cheack the genes"
   ]
  },
  {
   "cell_type": "code",
   "execution_count": 15,
   "id": "0faadbfb",
   "metadata": {},
   "outputs": [],
   "source": [
    "filt1_luad_df_tsg = pd.merge(filt1_luad_df, known_cancer_drivers_df[['Gene_name','tsg']],left_on=\"Hugo_Symbol\",right_on='Gene_name', how= 'left')\n",
    "unique_genes = filt1_luad_df_tsg[['Hugo_Symbol', 'tsg']].drop_duplicates()\n",
    "unique_genes_not_tsg_laud = unique_genes[unique_genes['tsg']!= True]\n",
    "unique_genes_not_tsg_laud.to_csv('check_not_tsg_laud.csv', index=False, encoding='utf-8') "
   ]
  },
  {
   "cell_type": "code",
   "execution_count": 16,
   "id": "74b7bfc5",
   "metadata": {},
   "outputs": [],
   "source": [
    "filt1_lusc_df_tsg = pd.merge(filt1_lusc_df, known_cancer_drivers_df[['Gene_name','tsg']],left_on=\"Hugo_Symbol\",right_on='Gene_name', how= 'left')\n",
    "unique_genes = filt1_lusc_df_tsg[['Hugo_Symbol', 'tsg']].drop_duplicates()\n",
    "unique_genes_not_tsg_lusc = unique_genes[unique_genes['tsg']!= True]\n",
    "unique_genes_not_tsg_lusc.to_csv('check_not_tsg_laud.csv', index=False, encoding='utf-8') "
   ]
  },
  {
   "cell_type": "code",
   "execution_count": 17,
   "id": "0fa52f54",
   "metadata": {},
   "outputs": [],
   "source": [
    "tsg_1 = known_cancer_drivers_df[(known_cancer_drivers_df['tsg'] == True)]['Gene_name'].tolist() #from nico"
   ]
  },
  {
   "cell_type": "code",
   "execution_count": 18,
   "id": "e49adfb8",
   "metadata": {},
   "outputs": [],
   "source": [
    "tsg_2 = tsg_genes_bioinfo['more tsg genes from bioinfo'].tolist()"
   ]
  },
  {
   "cell_type": "code",
   "execution_count": 19,
   "id": "5448be9c",
   "metadata": {},
   "outputs": [],
   "source": [
    "tsg = tsg_1 + tsg_2\n",
    "tsg = list(set(tsg)) #uniq values only"
   ]
  },
  {
   "cell_type": "code",
   "execution_count": 20,
   "id": "3bfa87da",
   "metadata": {},
   "outputs": [],
   "source": [
    "filt2_luad_df = filt1_luad_df[filt1_luad_df[\"Hugo_Symbol\"].isin(tsg)]"
   ]
  },
  {
   "cell_type": "code",
   "execution_count": 21,
   "id": "3cd2e1d8",
   "metadata": {},
   "outputs": [],
   "source": [
    "filt2_luad_df.to_csv('laud_tcga_mutations_after_filter.csv',index = False,encoding='utf-8')"
   ]
  },
  {
   "cell_type": "code",
   "execution_count": 22,
   "id": "98b3305e",
   "metadata": {},
   "outputs": [],
   "source": [
    "filt2_lusc_df = filt1_lusc_df[filt1_lusc_df[\"Hugo_Symbol\"].isin(tsg)]"
   ]
  },
  {
   "cell_type": "code",
   "execution_count": 23,
   "id": "dad01dcd",
   "metadata": {},
   "outputs": [],
   "source": [
    "filt2_lusc_df.to_csv('lasc_tcga_mutations_after_filter.csv',index = False,encoding='utf-8')"
   ]
  },
  {
   "cell_type": "markdown",
   "id": "77d54e20",
   "metadata": {},
   "source": [
    "List of the genes in both of the tables"
   ]
  },
  {
   "cell_type": "code",
   "execution_count": 24,
   "id": "a2fcfeec",
   "metadata": {},
   "outputs": [],
   "source": [
    "combined_gene_tsg = pd.concat([filt2_luad_df['Hugo_Symbol'], filt2_lusc_df['Hugo_Symbol']])\n",
    "tsg_genes_lung_cancer = combined_gene_tsg.unique()\n",
    "tsg_genes_lung_cancer_df = pd.DataFrame(tsg_genes_lung_cancer, columns=['GeneSymbol'])\n",
    "tsg_genes_lung_cancer_df.to_csv('tsg_genes_lung_cancer.csv', index=False, encoding='utf-8')"
   ]
  }
 ],
 "metadata": {
  "kernelspec": {
   "display_name": "Python 3",
   "language": "python",
   "name": "python3"
  },
  "language_info": {
   "codemirror_mode": {
    "name": "ipython",
    "version": 3
   },
   "file_extension": ".py",
   "mimetype": "text/x-python",
   "name": "python",
   "nbconvert_exporter": "python",
   "pygments_lexer": "ipython3",
   "version": "3.12.3"
  }
 },
 "nbformat": 4,
 "nbformat_minor": 5
}
