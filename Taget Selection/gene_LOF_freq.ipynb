{
 "cells": [
  {
   "metadata": {},
   "cell_type": "markdown",
   "source": "",
   "id": "5a7e6dec66f20fea"
  },
  {
   "cell_type": "code",
   "execution_count": 2,
   "id": "884a373f",
   "metadata": {},
   "outputs": [],
   "source": [
    "import pandas as pd\n",
    "\n",
    "# Load LOF mutations file\n",
    "damage_df = pd.read_csv(\"LOF mutes.csv\")\n",
    "\n",
    "# Get the unique genes to consider\n",
    "uniq_genes = damage_df[\"Hugo_Symbol\"].unique()"
   ]
  },
  {
   "cell_type": "code",
   "execution_count": 11,
   "id": "fd95399a",
   "metadata": {},
   "outputs": [],
   "source": [
    "columns_to_load = [\n",
    "    \"Hugo_Symbol\", \"mut_id\", \"Tumor_Sample_Barcode\",\n",
    "    \"Chromosome\", \"Start_Position\", \"End_Position\",\n",
    "    \"Reference_Allele\", \"Tumor_Seq_Allele2\",\n",
    "    \"Variant_Classification\", \"Variant_Type\",\n",
    "    \"HGVSp_Short\", \"case_id\", \"PolyPhen\"\n",
    "]\n",
    "\n",
    "luad_df = pd.read_csv(\"LUAD_mutations.csv\", usecols=columns_to_load)\n",
    "lusc_df = pd.read_csv(\"LUSC_mutations.csv\", usecols=columns_to_load)"
   ]
  },
  {
   "cell_type": "code",
   "execution_count": 12,
   "id": "0573d8ba",
   "metadata": {},
   "outputs": [],
   "source": [
    "luad_df[\"Cancer_Type\"] = \"LUAD\"\n",
    "lusc_df[\"Cancer_Type\"] = \"LUSC\""
   ]
  },
  {
   "cell_type": "code",
   "execution_count": 10,
   "id": "7462427b",
   "metadata": {},
   "outputs": [],
   "source": [
    "# Merge LUAD and LUSC together\n",
    "tcga_df = pd.concat([luad_df, lusc_df], ignore_index=True)"
   ]
  },
  {
   "cell_type": "code",
   "execution_count": 13,
   "id": "5cb61a5f",
   "metadata": {},
   "outputs": [],
   "source": [
    "# Total unique patients per cancer type\n",
    "n_luad = luad_df[\"case_id\"].nunique()\n",
    "n_lusc = lusc_df[\"case_id\"].nunique()\n",
    "n_total = len(set(luad_df[\"case_id\"]).union(lusc_df[\"case_id\"]))"
   ]
  },
  {
   "cell_type": "code",
   "execution_count": 14,
   "id": "c12767f4",
   "metadata": {},
   "outputs": [],
   "source": [
    "# Create lookup: mut_id -> confidence level\n",
    "confidence_map = dict(zip(damage_df[\"mut_id\"], damage_df[\"considered_dameged\"]))\n",
    "lof_mut_ids = set(confidence_map.keys())"
   ]
  },
  {
   "cell_type": "code",
   "execution_count": 30,
   "id": "c0df6c24",
   "metadata": {},
   "outputs": [],
   "source": [
    "def compute_lof_stats_by_gene(conf_levels):\n",
    "    # Filter for LOF mutations only\n",
    "    lof_df = tcga_df[tcga_df[\"mut_id\"].isin(lof_mut_ids)].copy()\n",
    "    lof_df[\"confidence\"] = lof_df[\"mut_id\"].map(confidence_map)\n",
    "\n",
    "    # Keep only selected confidence levels\n",
    "    filtered = lof_df[lof_df[\"confidence\"].isin(conf_levels)]\n",
    "\n",
    "    # Keep only unique patient-gene pairs\n",
    "    unique_pairs = filtered[[\"Hugo_Symbol\", \"case_id\", \"Cancer_Type\"]].drop_duplicates()\n",
    "\n",
    "    # Count patients per gene and cancer type\n",
    "    gene_counts = unique_pairs.groupby([\"Hugo_Symbol\", \"Cancer_Type\"])[\"case_id\"].nunique().unstack(fill_value=0)\n",
    "\n",
    "    # Add totals and frequency columns\n",
    "    gene_counts[\"Total_LOF_Patients\"] = gene_counts.sum(axis=1)\n",
    "    gene_counts[\"Total_Patients\"] = n_total\n",
    "    gene_counts[\"Total_Patients_LAUD\"] = n_luad\n",
    "    gene_counts[\"Total_Patients_LASC\"] = n_lusc\n",
    "    gene_counts[\"LUAD_LOF_Frequency\"] = gene_counts.get(\"LUAD\", 0) / n_luad\n",
    "    gene_counts[\"LUSC_LOF_Frequency\"] = gene_counts.get(\"LUSC\", 0) / n_lusc\n",
    "    gene_counts[\"Total_LOF_Frequency\"] = gene_counts[\"Total_LOF_Patients\"] / n_total\n",
    "    \n",
    "\n",
    "    \n",
    "    gene_counts.index.name = None\n",
    "    return gene_counts.reset_index()\n"
   ]
  },
  {
   "cell_type": "code",
   "execution_count": 31,
   "id": "e4e0fb73",
   "metadata": {},
   "outputs": [],
   "source": [
    "table_high = compute_lof_stats_by_gene([\"yes high confidence\"])\n",
    "table_mid_high = compute_lof_stats_by_gene([\"yes high confidence\", \"yes mid confidence\"])\n",
    "table_all = compute_lof_stats_by_gene([\"yes high confidence\", \"yes mid confidence\", \"yes low confidence\"])"
   ]
  },
  {
   "cell_type": "code",
   "execution_count": 33,
   "id": "28561a94",
   "metadata": {},
   "outputs": [],
   "source": [
    "table_high.to_csv(\"lof_stats_high_conf.csv\", index=False)\n",
    "table_mid_high.to_csv(\"lof_stats_mid_high_conf.csv\", index=False)\n",
    "table_all.to_csv(\"lof_stats_all_conf.csv\", index=False)"
   ]
  },
  {
   "cell_type": "code",
   "execution_count": null,
   "id": "45e67038",
   "metadata": {},
   "outputs": [],
   "source": []
  }
 ],
 "metadata": {
  "kernelspec": {
   "display_name": "Python 3",
   "language": "python",
   "name": "python3"
  },
  "language_info": {
   "codemirror_mode": {
    "name": "ipython",
    "version": 3
   },
   "file_extension": ".py",
   "mimetype": "text/x-python",
   "name": "python",
   "nbconvert_exporter": "python",
   "pygments_lexer": "ipython3",
   "version": "3.12.3"
  }
 },
 "nbformat": 4,
 "nbformat_minor": 5
}
