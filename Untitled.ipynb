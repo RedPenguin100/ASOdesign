{
 "cells": [
  {
   "cell_type": "code",
   "execution_count": 7,
   "id": "3950e189-beff-4048-9db5-e7e951942162",
   "metadata": {},
   "outputs": [],
   "source": [
    "import pytest\n",
    "\n",
    "from asodesigner.fold import get_mfe_scores, get_trigger_mfe_scores_by_risearch, Interaction, dump_target_file\n",
    "from asodesigner.target_finder import get_gfp_first_exp\n",
    "from asodesigner.util import get_antisense\n",
    "\n",
    "\n",
    "def test_empty():\n",
    "    name_to_sequence = {\"GFP\": get_gfp_first_exp()}\n",
    "\n",
    "    result = get_trigger_mfe_scores_by_risearch(name_to_sequence['GFP'][0:20], name_to_sequence, minimum_score=30000,\n",
    "                                                # very high score, no candidates will be found\n",
    "                                                parsing_type='2')\n",
    "    mfe_scores = get_mfe_scores(result, '2')\n",
    "\n",
    "    assert len(mfe_scores) == 1\n",
    "    assert len(mfe_scores[0]) == 0\n",
    "\n",
    "\n",
    "\n",
    "def test_risearch():\n",
    "    # example\n",
    "    name_to_sequence = {\n",
    "        \"0\": \"AUGUGUUCAAUUUUUGGCGUAUUCGAUAUCAAAACAGACGCAGUUGAGCUGCGUAAGAAAGCACUCGAGCUGUCACGCCUGAUGCGUCAUCGUGGCCCGGACUGGUCCGGUAUUUAUGCCAGCGAUAACGCCAUUCUCGCCCACGAACGUCUGUCAAUUGUUGACGUUAACGCGGGGGCGCAACCUCUCUACAACCAACAAAAAACUCAUGUGCUGGCGGUAAACGGUGAAAUCUACAACCACCAGGCACUGCGCGCCGAAUAUGGCGAUCGUUAUCAGUUCCAGACCGGAUCUGACUGUGAAGUGAUCCUCGCGCUGUAUCAGGAAAAAGGGCCGGAAUUUCUCGACGACUUGCAGGGCAUGUUUGCCUUUGCCUUGUACGACAGCGAAAAAGAUGCCUACCUGAUUGGUCGCGACCAUCUGGGGAUCAUCCCACUGUAUAUGGGCUAUGACGAACACGGUCAGCUGUAUGUGGCCUCAGAAAUGAAAGCCCUGGUGCCAGUUUGCCGCACGAUUAAAGAGUUCCCGGCGGGGAGCUAUUUGUGGAGCCAGGACGGCGAAAUCCGUUCUUAUUAUCAUCGCGACUGGUUCGACUACGAUGCGGUGAAAGAUAACGUAACCGACAAAAACGAGCUGCGUCAGGCACUUGAAGAUUCCGUUAAAAGCCAUCUGAUGUCUGAUGUGCCUUACGGUGUGCUGCUUUCUGGUGGUCUGGAUUCCUCAAUUAUUUCCGCUAUCACCAAGAAAUACGCAGCCCGUCGCGUGGAAGAUCAGGAACGCUCUGAAGCCUGGUGGCCGCAGUUACACUCCUUUGCUGUAGGUCUGCCGGGUUCACCGGAUCUUAAAGCAGCCCAGGAAGUGGCAAACCAUCUGGGCACGGUGCAUCACGAAAUUCACUUCACUGUACAGGAAGGUCUGGAUGCCAUCCGCGACGUGAUUUACCACAUCGAAACUUAUGAUGUGACCACAAUUCGCGCUUCAACACCGAUGUAUUUAAUGUCGCGUAAGAUCAAGGCGAUGGGCAUUAAAAUGGUGCUGUCCGGUGAAGGUUCUGAUGAAGUGUUUGGCGGUUAUCUUUACUUCCAUAAAGCGCCCAACGCUAAAGAACUGCAUGAAGAGACGGUGCGUAAACUGCUGGCCCUGCAUAUGUAUGACUGCGCGCGCGCCAACAAAGCGAUGUCAGCCUGGGGCGUGGAAGCACGCGUUCCGUUCCUCGACAAAAAAUUCCUUGAUGUGGCGAUGCGCAUUAACCCGCAGGAUAAAAUGUGCGGUAACGGCAAAAUGGAAAAACACAUCCUGCGUGAAUGUUUUGAGUCAUACCUGCCCGCAAGCGUGGCCUGGCGGCAGAAAGAGCAGUUCUCCGAUGGCGUCGGUUACAGUUGGAUCGACACCCUGAAAGAAGUGGCGGCGCAGCAGGUUUCUGAUCAGCAACUGGAAACUGCCCGCUUCCGCUUCCCGUACAACACGCCAACCUCAAAAGAAGCGUAUCUGUACCGGGAGAUCUUUGAAGAACUGUUCCCGCUUCCGAGCGCCGCUGAGUGCGUGCCUGGCGGUCCUUCCGUCGCGUGUUCUUCCGCUAAAGCGAUCGAAUGGGAUGAAGCGUUCAAGAAAAUGGACGAUCCAUCUGGUCGUGCGGUUGGUGUUCACCAGUCGGCAUAUAAGUAA\",\n",
    "        \"1\": \"AUGUUCGAACAACGCGUAAAUUCUGACGUACUGACCGUUUCUACCGUUAACUCUCAGGAUCAGGUAACCCAAAAACCCCUGCGUGACUCGGUUAAACAGGCACUGAAGAACUAUUUUGCUCAACUGAAUGGUCAGGAUGUGAAUGACCUCUAUGAGCUGGUACUGGCUGAAGUAGAACAGCCCCUGUUGGACAUGGUGAUGCAAUACACCCGUGGUAACCAGACCCGUGCUGCGCUGAUGAUGGGCAUCAACCGUGGUACGCUGCGUAAAAAAUUGAAAAAAUACGGCAUGAACUAA\"\n",
    "    }\n",
    "\n",
    "    parsing_type=None\n",
    "\n",
    "    target_path = dump_target_file('target-cache.fa', name_to_sequence)\n",
    "    result = get_trigger_mfe_scores_by_risearch(\"UAGAUGCGCCACUUGUGGUAUUCCCGCAUC\", name_to_sequence, minimum_score=900,\n",
    "                                                parsing_type=parsing_type, target_file_cache=str(target_path))\n",
    "    print(result)\n",
    "    mfe_scores = get_mfe_scores(result, parsing_type)\n",
    "\n",
    "    print(mfe_scores)\n",
    "\n",
    "\n",
    "def test_bad_fit():\n",
    "    sense = 'TTTTTTTCTTCCATT'\n",
    "\n",
    "    result = get_trigger_mfe_scores_by_risearch(sense, {'0': sense + sense}, parsing_type='2', minimum_score=900)\n",
    "    print(result)\n",
    "\n",
    "    gfp_seq = get_gfp_first_exp(gap=0)\n",
    "    sample_seq = gfp_seq[0:15]\n",
    "    result = get_trigger_mfe_scores_by_risearch('T' + sample_seq[1:15], {\"gfp\": gfp_seq}, parsing_type='2',\n",
    "                                                minimum_score=900)\n",
    "    print(result)\n",
    "\n",
    "\n",
    "def test_risearch_gfp():\n",
    "    gfp_seq = get_gfp_first_exp(gap=0)\n",
    "    sample_seq = gfp_seq[:20]\n",
    "    print(\"GFP ontarget(?) : \", gfp_seq[695:714])\n",
    "    print(\"Sample\", sample_seq)\n",
    "    print(\"Sample antisense\", get_antisense(sample_seq))\n",
    "    # name_to_seq = {f\"gfp_seq{i}\" : gfp_seq for i in range(100)}\n",
    "    name_to_seq = {f\"gfp_seq\": gfp_seq}\n",
    "    result = get_trigger_mfe_scores_by_risearch(sample_seq, name_to_seq,\n",
    "                                                interaction_type=Interaction.DNA_RNA_NO_WOBBLE,\n",
    "                                                minimum_score=900, neighborhood=30, parsing_type='2')\n",
    "    print(result)\n",
    "\n",
    "    mfe_scores = get_mfe_scores(result, '2')\n",
    "    print(mfe_scores)\n",
    "\n",
    "    bad_samples = [s + sample_seq[3:20] for s in [\"AAA\", \"ATA\", \"AGA\", \"ACG\"]]\n",
    "\n",
    "    for bad_sample in bad_samples:\n",
    "        result = get_trigger_mfe_scores_by_risearch(bad_sample, name_to_seq,\n",
    "                                                    interaction_type=Interaction.DNA_RNA_NO_WOBBLE, minimum_score=900,\n",
    "                                                    neighborhood=30, parsing_type='2')\n",
    "        print(result)\n",
    "        break\n",
    "        #mfe_scores = get_mfe_scores(result, '2')\n",
    "        #print(mfe_scores)\n"
   ]
  },
  {
   "cell_type": "code",
   "execution_count": 8,
   "id": "3f35364d-5675-4d2c-a608-9cb629f6b97e",
   "metadata": {},
   "outputs": [
    {
     "name": "stdout",
     "output_type": "stream",
     "text": [
      "GFP ontarget(?) :  CGGCATGGACGAGCTGTAC\n",
      "Sample ATGGTGAGCAAGGGCGAGGA\n",
      "Sample antisense TCCTCGCCCTTGCTCACCAT\n",
      "trigger\t1\t20\tgfp_seq\t1\t20\t1929\t-28.80\n",
      "trigger\t2\t13\tgfp_seq\t95\t106\t1086\t-15.57\n",
      "\n",
      "[[-28.8, -15.57]]\n",
      "trigger\t1\t17\tgfp_seq\t4\t20\t1744\t-25.15\n",
      "trigger\t2\t13\tgfp_seq\t95\t106\t1086\t-15.57\n",
      "\n"
     ]
    }
   ],
   "source": [
    "test_risearch_gfp()"
   ]
  },
  {
   "cell_type": "code",
   "execution_count": null,
   "id": "729777df-a80a-41e7-a736-b89eb751cee4",
   "metadata": {},
   "outputs": [],
   "source": []
  }
 ],
 "metadata": {
  "kernelspec": {
   "display_name": "Python 3 (ipykernel)",
   "language": "python",
   "name": "python3"
  },
  "language_info": {
   "codemirror_mode": {
    "name": "ipython",
    "version": 3
   },
   "file_extension": ".py",
   "mimetype": "text/x-python",
   "name": "python",
   "nbconvert_exporter": "python",
   "pygments_lexer": "ipython3",
   "version": "3.11.11"
  }
 },
 "nbformat": 4,
 "nbformat_minor": 5
}
